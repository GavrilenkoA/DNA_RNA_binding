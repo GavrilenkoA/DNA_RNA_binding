{
 "cells": [
  {
   "cell_type": "code",
   "outputs": [],
   "source": [
    "import pandas as pd"
   ],
   "metadata": {
    "collapsed": false
   },
   "id": "b8be129c95fa733b"
  },
  {
   "cell_type": "markdown",
   "source": [
    "#### Просмотр пересечений между train и test в готовых разбиениях на основании identity"
   ],
   "metadata": {
    "collapsed": false
   },
   "id": "4736fc337aa47248"
  },
  {
   "cell_type": "code",
   "outputs": [],
   "source": [
    "def make_clusters(df):\n",
    "    df.columns = [\"repr\", \"members\"]\n",
    "    \n",
    "    reprs = df[\"repr\"].to_list()\n",
    "    clusters = []\n",
    "    count = 0\n",
    "    name = \"\"\n",
    "    for item in reprs:\n",
    "        if item != name:\n",
    "            count += 1\n",
    "            name = item\n",
    "        clusters.append(count)\n",
    "    \n",
    "    df[\"clusters\"] = clusters\n",
    "    return df"
   ],
   "metadata": {
    "collapsed": false,
    "ExecuteTime": {
     "end_time": "2024-01-23T22:02:33.971959733Z",
     "start_time": "2024-01-23T22:02:33.966743533Z"
    }
   },
   "id": "35b7842159b64093",
   "execution_count": 92
  },
  {
   "cell_type": "code",
   "outputs": [],
   "source": [
    "def search_intersection(exclude_train, cluster, test_name: str):\n",
    "    group = cluster[\"members\"].values\n",
    "    \n",
    "    flag_1 = any([not item.endswith(test_name) for item in group])\n",
    "    flag_2 = any([item.endswith(test_name) for item in group])\n",
    "    if flag_1 and flag_2:\n",
    "        for member in group:\n",
    "            if not member.endswith(test_name):\n",
    "                exclude_train.append(member)\n",
    "    \n",
    "    return exclude_train"
   ],
   "metadata": {
    "collapsed": false,
    "ExecuteTime": {
     "end_time": "2024-01-23T17:18:38.357051786Z",
     "start_time": "2024-01-23T17:18:38.353864738Z"
    }
   },
   "id": "76761316c6737383",
   "execution_count": 26
  },
  {
   "cell_type": "code",
   "outputs": [],
   "source": [
    "def exclude_leakseqs(df):\n",
    "    df = make_clusters(df)\n",
    "    \n",
    "    grouped = df.groupby(\"clusters\")\n",
    "    \n",
    "    exclude_train = []\n",
    "    for _, cluster in grouped:\n",
    "        exclude_train = search_intersection(exclude_train, cluster, \"pdb20000\")\n",
    "    \n",
    "    return exclude_train"
   ],
   "metadata": {
    "collapsed": false,
    "ExecuteTime": {
     "end_time": "2024-01-23T17:18:39.088740243Z",
     "start_time": "2024-01-23T17:18:39.085541233Z"
    }
   },
   "id": "b9ccb2a2973b97f6",
   "execution_count": 27
  },
  {
   "cell_type": "code",
   "outputs": [
    {
     "ename": "FileNotFoundError",
     "evalue": "[Errno 2] No such file or directory: '../data/clusters/part1_cluster.tsv'",
     "output_type": "error",
     "traceback": [
      "\u001B[0;31m---------------------------------------------------------------------------\u001B[0m",
      "\u001B[0;31mFileNotFoundError\u001B[0m                         Traceback (most recent call last)",
      "Cell \u001B[0;32mIn[28], line 1\u001B[0m\n\u001B[0;32m----> 1\u001B[0m part1_cluster \u001B[38;5;241m=\u001B[39m pd\u001B[38;5;241m.\u001B[39mread_csv(\u001B[38;5;124m\"\u001B[39m\u001B[38;5;124m../data/clusters/part1_cluster.tsv\u001B[39m\u001B[38;5;124m\"\u001B[39m, sep\u001B[38;5;241m=\u001B[39m\u001B[38;5;124m\"\u001B[39m\u001B[38;5;130;01m\\t\u001B[39;00m\u001B[38;5;124m\"\u001B[39m, header\u001B[38;5;241m=\u001B[39m\u001B[38;5;28;01mNone\u001B[39;00m)\n",
      "File \u001B[0;32m~/anaconda3/envs/bind_predict/lib/python3.11/site-packages/pandas/io/parsers/readers.py:948\u001B[0m, in \u001B[0;36mread_csv\u001B[0;34m(filepath_or_buffer, sep, delimiter, header, names, index_col, usecols, dtype, engine, converters, true_values, false_values, skipinitialspace, skiprows, skipfooter, nrows, na_values, keep_default_na, na_filter, verbose, skip_blank_lines, parse_dates, infer_datetime_format, keep_date_col, date_parser, date_format, dayfirst, cache_dates, iterator, chunksize, compression, thousands, decimal, lineterminator, quotechar, quoting, doublequote, escapechar, comment, encoding, encoding_errors, dialect, on_bad_lines, delim_whitespace, low_memory, memory_map, float_precision, storage_options, dtype_backend)\u001B[0m\n\u001B[1;32m    935\u001B[0m kwds_defaults \u001B[38;5;241m=\u001B[39m _refine_defaults_read(\n\u001B[1;32m    936\u001B[0m     dialect,\n\u001B[1;32m    937\u001B[0m     delimiter,\n\u001B[0;32m   (...)\u001B[0m\n\u001B[1;32m    944\u001B[0m     dtype_backend\u001B[38;5;241m=\u001B[39mdtype_backend,\n\u001B[1;32m    945\u001B[0m )\n\u001B[1;32m    946\u001B[0m kwds\u001B[38;5;241m.\u001B[39mupdate(kwds_defaults)\n\u001B[0;32m--> 948\u001B[0m \u001B[38;5;28;01mreturn\u001B[39;00m _read(filepath_or_buffer, kwds)\n",
      "File \u001B[0;32m~/anaconda3/envs/bind_predict/lib/python3.11/site-packages/pandas/io/parsers/readers.py:611\u001B[0m, in \u001B[0;36m_read\u001B[0;34m(filepath_or_buffer, kwds)\u001B[0m\n\u001B[1;32m    608\u001B[0m _validate_names(kwds\u001B[38;5;241m.\u001B[39mget(\u001B[38;5;124m\"\u001B[39m\u001B[38;5;124mnames\u001B[39m\u001B[38;5;124m\"\u001B[39m, \u001B[38;5;28;01mNone\u001B[39;00m))\n\u001B[1;32m    610\u001B[0m \u001B[38;5;66;03m# Create the parser.\u001B[39;00m\n\u001B[0;32m--> 611\u001B[0m parser \u001B[38;5;241m=\u001B[39m TextFileReader(filepath_or_buffer, \u001B[38;5;241m*\u001B[39m\u001B[38;5;241m*\u001B[39mkwds)\n\u001B[1;32m    613\u001B[0m \u001B[38;5;28;01mif\u001B[39;00m chunksize \u001B[38;5;129;01mor\u001B[39;00m iterator:\n\u001B[1;32m    614\u001B[0m     \u001B[38;5;28;01mreturn\u001B[39;00m parser\n",
      "File \u001B[0;32m~/anaconda3/envs/bind_predict/lib/python3.11/site-packages/pandas/io/parsers/readers.py:1448\u001B[0m, in \u001B[0;36mTextFileReader.__init__\u001B[0;34m(self, f, engine, **kwds)\u001B[0m\n\u001B[1;32m   1445\u001B[0m     \u001B[38;5;28mself\u001B[39m\u001B[38;5;241m.\u001B[39moptions[\u001B[38;5;124m\"\u001B[39m\u001B[38;5;124mhas_index_names\u001B[39m\u001B[38;5;124m\"\u001B[39m] \u001B[38;5;241m=\u001B[39m kwds[\u001B[38;5;124m\"\u001B[39m\u001B[38;5;124mhas_index_names\u001B[39m\u001B[38;5;124m\"\u001B[39m]\n\u001B[1;32m   1447\u001B[0m \u001B[38;5;28mself\u001B[39m\u001B[38;5;241m.\u001B[39mhandles: IOHandles \u001B[38;5;241m|\u001B[39m \u001B[38;5;28;01mNone\u001B[39;00m \u001B[38;5;241m=\u001B[39m \u001B[38;5;28;01mNone\u001B[39;00m\n\u001B[0;32m-> 1448\u001B[0m \u001B[38;5;28mself\u001B[39m\u001B[38;5;241m.\u001B[39m_engine \u001B[38;5;241m=\u001B[39m \u001B[38;5;28mself\u001B[39m\u001B[38;5;241m.\u001B[39m_make_engine(f, \u001B[38;5;28mself\u001B[39m\u001B[38;5;241m.\u001B[39mengine)\n",
      "File \u001B[0;32m~/anaconda3/envs/bind_predict/lib/python3.11/site-packages/pandas/io/parsers/readers.py:1705\u001B[0m, in \u001B[0;36mTextFileReader._make_engine\u001B[0;34m(self, f, engine)\u001B[0m\n\u001B[1;32m   1703\u001B[0m     \u001B[38;5;28;01mif\u001B[39;00m \u001B[38;5;124m\"\u001B[39m\u001B[38;5;124mb\u001B[39m\u001B[38;5;124m\"\u001B[39m \u001B[38;5;129;01mnot\u001B[39;00m \u001B[38;5;129;01min\u001B[39;00m mode:\n\u001B[1;32m   1704\u001B[0m         mode \u001B[38;5;241m+\u001B[39m\u001B[38;5;241m=\u001B[39m \u001B[38;5;124m\"\u001B[39m\u001B[38;5;124mb\u001B[39m\u001B[38;5;124m\"\u001B[39m\n\u001B[0;32m-> 1705\u001B[0m \u001B[38;5;28mself\u001B[39m\u001B[38;5;241m.\u001B[39mhandles \u001B[38;5;241m=\u001B[39m get_handle(\n\u001B[1;32m   1706\u001B[0m     f,\n\u001B[1;32m   1707\u001B[0m     mode,\n\u001B[1;32m   1708\u001B[0m     encoding\u001B[38;5;241m=\u001B[39m\u001B[38;5;28mself\u001B[39m\u001B[38;5;241m.\u001B[39moptions\u001B[38;5;241m.\u001B[39mget(\u001B[38;5;124m\"\u001B[39m\u001B[38;5;124mencoding\u001B[39m\u001B[38;5;124m\"\u001B[39m, \u001B[38;5;28;01mNone\u001B[39;00m),\n\u001B[1;32m   1709\u001B[0m     compression\u001B[38;5;241m=\u001B[39m\u001B[38;5;28mself\u001B[39m\u001B[38;5;241m.\u001B[39moptions\u001B[38;5;241m.\u001B[39mget(\u001B[38;5;124m\"\u001B[39m\u001B[38;5;124mcompression\u001B[39m\u001B[38;5;124m\"\u001B[39m, \u001B[38;5;28;01mNone\u001B[39;00m),\n\u001B[1;32m   1710\u001B[0m     memory_map\u001B[38;5;241m=\u001B[39m\u001B[38;5;28mself\u001B[39m\u001B[38;5;241m.\u001B[39moptions\u001B[38;5;241m.\u001B[39mget(\u001B[38;5;124m\"\u001B[39m\u001B[38;5;124mmemory_map\u001B[39m\u001B[38;5;124m\"\u001B[39m, \u001B[38;5;28;01mFalse\u001B[39;00m),\n\u001B[1;32m   1711\u001B[0m     is_text\u001B[38;5;241m=\u001B[39mis_text,\n\u001B[1;32m   1712\u001B[0m     errors\u001B[38;5;241m=\u001B[39m\u001B[38;5;28mself\u001B[39m\u001B[38;5;241m.\u001B[39moptions\u001B[38;5;241m.\u001B[39mget(\u001B[38;5;124m\"\u001B[39m\u001B[38;5;124mencoding_errors\u001B[39m\u001B[38;5;124m\"\u001B[39m, \u001B[38;5;124m\"\u001B[39m\u001B[38;5;124mstrict\u001B[39m\u001B[38;5;124m\"\u001B[39m),\n\u001B[1;32m   1713\u001B[0m     storage_options\u001B[38;5;241m=\u001B[39m\u001B[38;5;28mself\u001B[39m\u001B[38;5;241m.\u001B[39moptions\u001B[38;5;241m.\u001B[39mget(\u001B[38;5;124m\"\u001B[39m\u001B[38;5;124mstorage_options\u001B[39m\u001B[38;5;124m\"\u001B[39m, \u001B[38;5;28;01mNone\u001B[39;00m),\n\u001B[1;32m   1714\u001B[0m )\n\u001B[1;32m   1715\u001B[0m \u001B[38;5;28;01massert\u001B[39;00m \u001B[38;5;28mself\u001B[39m\u001B[38;5;241m.\u001B[39mhandles \u001B[38;5;129;01mis\u001B[39;00m \u001B[38;5;129;01mnot\u001B[39;00m \u001B[38;5;28;01mNone\u001B[39;00m\n\u001B[1;32m   1716\u001B[0m f \u001B[38;5;241m=\u001B[39m \u001B[38;5;28mself\u001B[39m\u001B[38;5;241m.\u001B[39mhandles\u001B[38;5;241m.\u001B[39mhandle\n",
      "File \u001B[0;32m~/anaconda3/envs/bind_predict/lib/python3.11/site-packages/pandas/io/common.py:863\u001B[0m, in \u001B[0;36mget_handle\u001B[0;34m(path_or_buf, mode, encoding, compression, memory_map, is_text, errors, storage_options)\u001B[0m\n\u001B[1;32m    858\u001B[0m \u001B[38;5;28;01melif\u001B[39;00m \u001B[38;5;28misinstance\u001B[39m(handle, \u001B[38;5;28mstr\u001B[39m):\n\u001B[1;32m    859\u001B[0m     \u001B[38;5;66;03m# Check whether the filename is to be opened in binary mode.\u001B[39;00m\n\u001B[1;32m    860\u001B[0m     \u001B[38;5;66;03m# Binary mode does not support 'encoding' and 'newline'.\u001B[39;00m\n\u001B[1;32m    861\u001B[0m     \u001B[38;5;28;01mif\u001B[39;00m ioargs\u001B[38;5;241m.\u001B[39mencoding \u001B[38;5;129;01mand\u001B[39;00m \u001B[38;5;124m\"\u001B[39m\u001B[38;5;124mb\u001B[39m\u001B[38;5;124m\"\u001B[39m \u001B[38;5;129;01mnot\u001B[39;00m \u001B[38;5;129;01min\u001B[39;00m ioargs\u001B[38;5;241m.\u001B[39mmode:\n\u001B[1;32m    862\u001B[0m         \u001B[38;5;66;03m# Encoding\u001B[39;00m\n\u001B[0;32m--> 863\u001B[0m         handle \u001B[38;5;241m=\u001B[39m \u001B[38;5;28mopen\u001B[39m(\n\u001B[1;32m    864\u001B[0m             handle,\n\u001B[1;32m    865\u001B[0m             ioargs\u001B[38;5;241m.\u001B[39mmode,\n\u001B[1;32m    866\u001B[0m             encoding\u001B[38;5;241m=\u001B[39mioargs\u001B[38;5;241m.\u001B[39mencoding,\n\u001B[1;32m    867\u001B[0m             errors\u001B[38;5;241m=\u001B[39merrors,\n\u001B[1;32m    868\u001B[0m             newline\u001B[38;5;241m=\u001B[39m\u001B[38;5;124m\"\u001B[39m\u001B[38;5;124m\"\u001B[39m,\n\u001B[1;32m    869\u001B[0m         )\n\u001B[1;32m    870\u001B[0m     \u001B[38;5;28;01melse\u001B[39;00m:\n\u001B[1;32m    871\u001B[0m         \u001B[38;5;66;03m# Binary mode\u001B[39;00m\n\u001B[1;32m    872\u001B[0m         handle \u001B[38;5;241m=\u001B[39m \u001B[38;5;28mopen\u001B[39m(handle, ioargs\u001B[38;5;241m.\u001B[39mmode)\n",
      "\u001B[0;31mFileNotFoundError\u001B[0m: [Errno 2] No such file or directory: '../data/clusters/part1_cluster.tsv'"
     ]
    }
   ],
   "source": [
    "#part1_cluster = pd.read_csv(\"../data/clusters/part1_cluster.tsv\", sep=\"\\t\", header=None)"
   ],
   "metadata": {
    "collapsed": false,
    "ExecuteTime": {
     "end_time": "2024-01-23T17:18:40.672671621Z",
     "start_time": "2024-01-23T17:18:40.363026342Z"
    }
   },
   "id": "9e4e8dc751f33561",
   "execution_count": 28
  },
  {
   "cell_type": "code",
   "outputs": [
    {
     "ename": "NameError",
     "evalue": "name 'part1_cluster' is not defined",
     "output_type": "error",
     "traceback": [
      "\u001B[0;31m---------------------------------------------------------------------------\u001B[0m",
      "\u001B[0;31mNameError\u001B[0m                                 Traceback (most recent call last)",
      "Cell \u001B[0;32mIn[29], line 1\u001B[0m\n\u001B[0;32m----> 1\u001B[0m exclude_train \u001B[38;5;241m=\u001B[39m exclude_leakseqs(part1_cluster)\n",
      "\u001B[0;31mNameError\u001B[0m: name 'part1_cluster' is not defined"
     ]
    }
   ],
   "source": [
    "#exclude_train = exclude_leakseqs(part1_cluster)"
   ],
   "metadata": {
    "collapsed": false,
    "ExecuteTime": {
     "end_time": "2024-01-23T17:18:40.774974251Z",
     "start_time": "2024-01-23T17:18:40.731961840Z"
    }
   },
   "id": "82026724465dfde6",
   "execution_count": 29
  },
  {
   "cell_type": "code",
   "outputs": [],
   "source": [
    "df = pd.read_csv(\"../data/papers_data/DBP/overall_data.csv\")"
   ],
   "metadata": {
    "collapsed": false,
    "ExecuteTime": {
     "end_time": "2024-01-22T13:51:53.045380005Z",
     "start_time": "2024-01-22T13:51:52.749409152Z"
    }
   },
   "id": "a8a0d6054adec323",
   "execution_count": 215
  },
  {
   "cell_type": "code",
   "outputs": [],
   "source": [
    "df_1 = df.loc[~df[\"identifier\"].isin(exclude_train)]"
   ],
   "metadata": {
    "collapsed": false,
    "ExecuteTime": {
     "end_time": "2024-01-22T13:52:21.862101725Z",
     "start_time": "2024-01-22T13:52:21.816193225Z"
    }
   },
   "id": "7d1a74bcd590d2d",
   "execution_count": 216
  },
  {
   "cell_type": "code",
   "outputs": [],
   "source": [
    "part2_cluster = pd.read_csv(\"../data/clusters/part2_cluster.tsv\", sep=\"\\t\", header=None)"
   ],
   "metadata": {
    "collapsed": false,
    "ExecuteTime": {
     "end_time": "2024-01-22T13:52:50.453342992Z",
     "start_time": "2024-01-22T13:52:50.403343105Z"
    }
   },
   "id": "66b6a5e0da31836e",
   "execution_count": 219
  },
  {
   "cell_type": "code",
   "outputs": [],
   "source": [
    "exclude_train = exclude_leakseqs(part2_cluster)"
   ],
   "metadata": {
    "collapsed": false,
    "ExecuteTime": {
     "end_time": "2024-01-22T13:52:55.842794554Z",
     "start_time": "2024-01-22T13:52:55.004576560Z"
    }
   },
   "id": "b341afe2756a1b59",
   "execution_count": 220
  },
  {
   "cell_type": "code",
   "outputs": [],
   "source": [
    "df_2 = df.loc[~df[\"identifier\"].isin(exclude_train)]"
   ],
   "metadata": {
    "collapsed": false,
    "ExecuteTime": {
     "end_time": "2024-01-22T13:53:34.402047680Z",
     "start_time": "2024-01-22T13:53:34.359899446Z"
    }
   },
   "id": "608889685969fcda",
   "execution_count": 221
  },
  {
   "cell_type": "code",
   "outputs": [],
   "source": [
    "dna_biolip = pd.read_csv(\"../data/biolip/dna_binders_biolip.csv\")"
   ],
   "metadata": {
    "collapsed": false,
    "ExecuteTime": {
     "end_time": "2024-01-22T13:53:36.914094008Z",
     "start_time": "2024-01-22T13:53:36.883578465Z"
    }
   },
   "id": "bb6a615e6aa03120",
   "execution_count": 222
  },
  {
   "cell_type": "code",
   "outputs": [
    {
     "data": {
      "text/plain": "9247"
     },
     "execution_count": 223,
     "metadata": {},
     "output_type": "execute_result"
    }
   ],
   "source": [
    "len(dna_biolip)"
   ],
   "metadata": {
    "collapsed": false,
    "ExecuteTime": {
     "end_time": "2024-01-22T13:53:39.674185600Z",
     "start_time": "2024-01-22T13:53:39.626283157Z"
    }
   },
   "id": "42b574b66bc18f0d",
   "execution_count": 223
  },
  {
   "cell_type": "code",
   "outputs": [],
   "source": [
    "dna_biolip_ = dna_biolip.loc[~dna_biolip[\"identifier\"].isin(exclude_train)]"
   ],
   "metadata": {
    "collapsed": false,
    "ExecuteTime": {
     "end_time": "2024-01-22T13:53:40.640481545Z",
     "start_time": "2024-01-22T13:53:40.635363402Z"
    }
   },
   "id": "dc3c733a9e037fb8",
   "execution_count": 224
  },
  {
   "cell_type": "code",
   "outputs": [
    {
     "data": {
      "text/plain": "8081"
     },
     "execution_count": 225,
     "metadata": {},
     "output_type": "execute_result"
    }
   ],
   "source": [
    "len(dna_biolip_)"
   ],
   "metadata": {
    "collapsed": false,
    "ExecuteTime": {
     "end_time": "2024-01-22T13:53:41.199720695Z",
     "start_time": "2024-01-22T13:53:41.196642060Z"
    }
   },
   "id": "7c5f9a4062ff1914",
   "execution_count": 225
  },
  {
   "cell_type": "code",
   "outputs": [],
   "source": [
    "df_1.to_csv(\"../data/papers_data/DBP/df_1.csv\", index=False)"
   ],
   "metadata": {
    "collapsed": false,
    "ExecuteTime": {
     "end_time": "2024-01-22T13:56:29.893622628Z",
     "start_time": "2024-01-22T13:56:29.447087819Z"
    }
   },
   "id": "a9db44f9f0b7af5a",
   "execution_count": 229
  },
  {
   "cell_type": "code",
   "outputs": [],
   "source": [
    "df_2.to_csv(\"../data/papers_data/DBP/df_2.csv\", index=False)"
   ],
   "metadata": {
    "collapsed": false,
    "ExecuteTime": {
     "end_time": "2024-01-22T13:56:30.895701279Z",
     "start_time": "2024-01-22T13:56:30.440001249Z"
    }
   },
   "id": "b16ac36d4421c19",
   "execution_count": 230
  },
  {
   "cell_type": "code",
   "outputs": [],
   "source": [],
   "metadata": {
    "collapsed": false
   },
   "id": "cac7a9be076def58"
  },
  {
   "cell_type": "code",
   "outputs": [
    {
     "data": {
      "text/plain": "      identifier  class_binder  \\\n0          10mhA             1   \n1          1a02F             1   \n2          1a02J             1   \n3          1a02N             1   \n4          1a0aA             1   \n...          ...           ...   \n18489     Q6UWE3             0   \n18490     Q0V9F7             0   \n18491     Q94125             0   \n18492     Q5V0R5             0   \n18493     S0DLP1             0   \n\n                                                sequence  clusters  \n0      MIEIKDKQLTGLRFIDLFAGLGGFRLALESCGAECVYSNEWDKYAQ...       603  \n1      RRIRRERNKMAAAKSRNRRRELTDTLQAETDQLEDEKSALQTEIAN...      3822  \n2      RKRMRNRIAASKSRKRKLERIARLEEKVKTLKAQNSELASTANMLR...      3821  \n3      WPLSSQSGSYELRIEVQPKPHHRAHYETEGSRGAVKAPTGGHPVVQ...       806  \n4      MKRESHKHAEQARRNRLAVALHELASLIPAEWKQQNVSAAPSKATT...       604  \n...                                                  ...       ...  \n18489  MAAALALVAGVLSGAVLPLWSALPQYKKKITDRCFHHSECYSGCCL...      1685  \n18490  MPPKRNRKRLGTRGEGSGDSGVGMFERNDAVQEQKKEKIRLFMQDF...      1686  \n18491  MSMGRSPSTTFRSRTGSHGARDLIAGHGRNSRRISQMHVNILHPQL...      1687  \n18492  MLPLQVSSLGVEGEGIWLALGTVGMLLGMVYFMAKGWDVQDPEQEE...      1688  \n18493  MASPSTDRLHLIEYLQDPGNPDGESRERLIEACQDVIASLERPIET...      1689  \n\n[18494 rows x 4 columns]",
      "text/html": "<div>\n<style scoped>\n    .dataframe tbody tr th:only-of-type {\n        vertical-align: middle;\n    }\n\n    .dataframe tbody tr th {\n        vertical-align: top;\n    }\n\n    .dataframe thead th {\n        text-align: right;\n    }\n</style>\n<table border=\"1\" class=\"dataframe\">\n  <thead>\n    <tr style=\"text-align: right;\">\n      <th></th>\n      <th>identifier</th>\n      <th>class_binder</th>\n      <th>sequence</th>\n      <th>clusters</th>\n    </tr>\n  </thead>\n  <tbody>\n    <tr>\n      <th>0</th>\n      <td>10mhA</td>\n      <td>1</td>\n      <td>MIEIKDKQLTGLRFIDLFAGLGGFRLALESCGAECVYSNEWDKYAQ...</td>\n      <td>603</td>\n    </tr>\n    <tr>\n      <th>1</th>\n      <td>1a02F</td>\n      <td>1</td>\n      <td>RRIRRERNKMAAAKSRNRRRELTDTLQAETDQLEDEKSALQTEIAN...</td>\n      <td>3822</td>\n    </tr>\n    <tr>\n      <th>2</th>\n      <td>1a02J</td>\n      <td>1</td>\n      <td>RKRMRNRIAASKSRKRKLERIARLEEKVKTLKAQNSELASTANMLR...</td>\n      <td>3821</td>\n    </tr>\n    <tr>\n      <th>3</th>\n      <td>1a02N</td>\n      <td>1</td>\n      <td>WPLSSQSGSYELRIEVQPKPHHRAHYETEGSRGAVKAPTGGHPVVQ...</td>\n      <td>806</td>\n    </tr>\n    <tr>\n      <th>4</th>\n      <td>1a0aA</td>\n      <td>1</td>\n      <td>MKRESHKHAEQARRNRLAVALHELASLIPAEWKQQNVSAAPSKATT...</td>\n      <td>604</td>\n    </tr>\n    <tr>\n      <th>...</th>\n      <td>...</td>\n      <td>...</td>\n      <td>...</td>\n      <td>...</td>\n    </tr>\n    <tr>\n      <th>18489</th>\n      <td>Q6UWE3</td>\n      <td>0</td>\n      <td>MAAALALVAGVLSGAVLPLWSALPQYKKKITDRCFHHSECYSGCCL...</td>\n      <td>1685</td>\n    </tr>\n    <tr>\n      <th>18490</th>\n      <td>Q0V9F7</td>\n      <td>0</td>\n      <td>MPPKRNRKRLGTRGEGSGDSGVGMFERNDAVQEQKKEKIRLFMQDF...</td>\n      <td>1686</td>\n    </tr>\n    <tr>\n      <th>18491</th>\n      <td>Q94125</td>\n      <td>0</td>\n      <td>MSMGRSPSTTFRSRTGSHGARDLIAGHGRNSRRISQMHVNILHPQL...</td>\n      <td>1687</td>\n    </tr>\n    <tr>\n      <th>18492</th>\n      <td>Q5V0R5</td>\n      <td>0</td>\n      <td>MLPLQVSSLGVEGEGIWLALGTVGMLLGMVYFMAKGWDVQDPEQEE...</td>\n      <td>1688</td>\n    </tr>\n    <tr>\n      <th>18493</th>\n      <td>S0DLP1</td>\n      <td>0</td>\n      <td>MASPSTDRLHLIEYLQDPGNPDGESRERLIEACQDVIASLERPIET...</td>\n      <td>1689</td>\n    </tr>\n  </tbody>\n</table>\n<p>18494 rows × 4 columns</p>\n</div>"
     },
     "execution_count": 100,
     "metadata": {},
     "output_type": "execute_result"
    }
   ],
   "source": [
    "pd.read_csv(\"../data/output_df.csv\")"
   ],
   "metadata": {
    "collapsed": false,
    "ExecuteTime": {
     "end_time": "2024-01-23T22:16:22.297397858Z",
     "start_time": "2024-01-23T22:16:22.234440333Z"
    }
   },
   "id": "61d86e302b27b38c",
   "execution_count": 100
  },
  {
   "cell_type": "code",
   "outputs": [],
   "source": [
    "#gkf = GroupKFold(n_splits=2)"
   ],
   "metadata": {
    "collapsed": false,
    "ExecuteTime": {
     "end_time": "2024-01-23T18:06:31.833469271Z",
     "start_time": "2024-01-23T18:06:31.828949209Z"
    }
   },
   "id": "f596402596c7fe5a",
   "execution_count": 81
  },
  {
   "cell_type": "code",
   "outputs": [],
   "source": [
    "# for train_indices, test_indices in gkf.split(X, y, groups):\n",
    "#     X_train, X_test = X[train_indices], X[test_indices]"
   ],
   "metadata": {
    "collapsed": false,
    "ExecuteTime": {
     "end_time": "2024-01-23T18:06:33.918542348Z",
     "start_time": "2024-01-23T18:06:33.897948777Z"
    }
   },
   "id": "a70d1a1f2451335",
   "execution_count": 82
  },
  {
   "cell_type": "code",
   "outputs": [],
   "source": [],
   "metadata": {
    "collapsed": false
   },
   "id": "5921f43b3aeb9945"
  }
 ],
 "metadata": {
  "kernelspec": {
   "display_name": "Python 3",
   "language": "python",
   "name": "python3"
  },
  "language_info": {
   "codemirror_mode": {
    "name": "ipython",
    "version": 2
   },
   "file_extension": ".py",
   "mimetype": "text/x-python",
   "name": "python",
   "nbconvert_exporter": "python",
   "pygments_lexer": "ipython2",
   "version": "2.7.6"
  }
 },
 "nbformat": 4,
 "nbformat_minor": 5
}
