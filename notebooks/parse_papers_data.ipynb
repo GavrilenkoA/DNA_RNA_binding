{
 "cells": [
  {
   "cell_type": "code",
   "execution_count": 1,
   "id": "initial_id",
   "metadata": {
    "collapsed": true,
    "ExecuteTime": {
     "end_time": "2024-01-26T12:33:19.965272240Z",
     "start_time": "2024-01-26T12:33:19.527780394Z"
    }
   },
   "outputs": [],
   "source": [
    "import pandas as pd\n",
    "from pypdf import PdfReader"
   ]
  },
  {
   "cell_type": "code",
   "outputs": [],
   "source": [
    "def process_csv(path_csv):\n",
    "    df = pd.read_csv(path_csv, header=None)\n",
    "    \n",
    "    new_column_names = {0: \"identifier\", 1: \"sequence\", 2: \"class_binder\"}\n",
    "    df = df.rename(columns=new_column_names)\n",
    "    \n",
    "    def process_id(x):\n",
    "        if len(x) > 5:\n",
    "            id_ = x.split(\"|\")[1]\n",
    "            return id_\n",
    "        else:\n",
    "            return x\n",
    "    \n",
    "    df[\"identifier\"] = df[\"identifier\"].apply(process_id)\n",
    "    return df"
   ],
   "metadata": {
    "collapsed": false,
    "ExecuteTime": {
     "end_time": "2024-01-26T12:33:20.010897372Z",
     "start_time": "2024-01-26T12:33:20.008102494Z"
    }
   },
   "id": "810c8b0aa67dd0c5",
   "execution_count": 2
  },
  {
   "cell_type": "code",
   "outputs": [],
   "source": [
    "def process_text(data_seq, mode=\"binders\"):\n",
    "    sequences = []\n",
    "    identifiers = []\n",
    "\n",
    "    text = data_seq.split(\"\\n\")\n",
    "    text = [item for item in text if item]\n",
    "    \n",
    "    seq = \"\"\n",
    "    for item in text:\n",
    "        if item[0] == \">\":\n",
    "            identifiers.append(item[1:])\n",
    "            if seq:\n",
    "                seq = \"\".join([char for char in seq if not char.isdigit()])\n",
    "                sequences.append(seq)\n",
    "                seq = \"\"\n",
    "        elif not item[0].isdigit():\n",
    "            seq += item\n",
    "    \n",
    "    seq = \"\".join([char for char in seq if not char.isdigit()])\n",
    "    sequences.append(seq)\n",
    "    \n",
    "    assert len(identifiers) == len(sequences)\n",
    "    \n",
    "    if mode == \"binders\":\n",
    "        class_binders = [1] * len(sequences)\n",
    "    else:\n",
    "        class_binders = [0] * len(sequences)\n",
    "    \n",
    "    df = pd.DataFrame({\"identifier\": identifiers, \"class_binder\": class_binders, \n",
    "                       \"sequence\": sequences})\n",
    "    return df"
   ],
   "metadata": {
    "collapsed": false,
    "ExecuteTime": {
     "end_time": "2024-01-26T12:33:20.012188945Z",
     "start_time": "2024-01-26T12:33:20.008414106Z"
    }
   },
   "id": "7f941daa4c36af5a",
   "execution_count": 3
  },
  {
   "cell_type": "code",
   "outputs": [],
   "source": [
    "def parse_pdf_v2(path, split_1, split_2):\n",
    "    pdf = PdfReader(path)\n",
    "    text = \"\"\n",
    "    for page in pdf.pages:\n",
    "        text += page.extract_text()\n",
    "        \n",
    "    text = text.replace(\" \", \"\")\n",
    "    _, text = text.split(f\"{split_1}DNA-bindingproteins\")\n",
    "    \n",
    "    binders, not_binders = text.split(f\"(2).{split_2}nonDNA-bindingproteins\")\n",
    "    return binders, not_binders"
   ],
   "metadata": {
    "collapsed": false,
    "ExecuteTime": {
     "end_time": "2024-01-26T12:33:20.547825732Z",
     "start_time": "2024-01-26T12:33:20.540566455Z"
    }
   },
   "id": "f22e4643302d6b40",
   "execution_count": 4
  },
  {
   "cell_type": "code",
   "outputs": [],
   "source": [
    "def process_col_id(x):\n",
    "    id_ = x.split(\"|\")[1]\n",
    "    return id_"
   ],
   "metadata": {
    "collapsed": false,
    "ExecuteTime": {
     "end_time": "2024-01-26T12:33:21.151209465Z",
     "start_time": "2024-01-26T12:33:21.146169794Z"
    }
   },
   "id": "6000842f04a9707a",
   "execution_count": 5
  },
  {
   "cell_type": "code",
   "outputs": [],
   "source": [
    "def parse_text_v5(path, mode=\"binders\"):\n",
    "    with open(path) as fi:\n",
    "        lines = fi.readlines()\n",
    "    lines = [line.strip() for line in lines if line.strip()]\n",
    "    \n",
    "    identifiers = []\n",
    "    for head in lines:\n",
    "        identifiers.append(head)\n",
    "    \n",
    "    if mode == \"binders\":\n",
    "        class_binders = [1] * len(identifiers)\n",
    "    else:\n",
    "        class_binders = [0] * len(identifiers)\n",
    "    \n",
    "    df = pd.DataFrame({\"identifier\": identifiers, \"class_binder\": class_binders})\n",
    "    return df"
   ],
   "metadata": {
    "collapsed": false,
    "ExecuteTime": {
     "end_time": "2024-01-26T12:33:21.612405055Z",
     "start_time": "2024-01-26T12:33:21.606569552Z"
    }
   },
   "id": "55a68198e994b6da",
   "execution_count": 6
  },
  {
   "cell_type": "code",
   "outputs": [],
   "source": [
    "pdb67151 = process_csv(\"../data/DBP_papers_data/train-17151+50000-unbalance.csv\")"
   ],
   "metadata": {
    "collapsed": false,
    "ExecuteTime": {
     "end_time": "2024-01-26T12:33:23.275446990Z",
     "start_time": "2024-01-26T12:33:23.006504987Z"
    }
   },
   "id": "75ffa804b6a1a6cc",
   "execution_count": 7
  },
  {
   "cell_type": "code",
   "outputs": [],
   "source": [
    "binders, not_binders = parse_pdf_v2(\"../data/DBP_papers_data/minf_201400025_sm_s4.pdf\", \n",
    "                                    \"525\", \"550\")"
   ],
   "metadata": {
    "collapsed": false,
    "ExecuteTime": {
     "end_time": "2024-01-26T12:33:38.471774517Z",
     "start_time": "2024-01-26T12:33:36.925924516Z"
    }
   },
   "id": "63e199f21de894d4",
   "execution_count": 8
  },
  {
   "cell_type": "code",
   "outputs": [],
   "source": [
    "pdb1075p1 = process_text(binders, mode=\"binders\")\n",
    "pdb1075p2 = process_text(not_binders, mode=\"not_binders\")\n",
    "pdb1075 = pd.concat([pdb1075p1, pdb1075p2])"
   ],
   "metadata": {
    "collapsed": false,
    "ExecuteTime": {
     "end_time": "2024-01-26T12:33:39.412593616Z",
     "start_time": "2024-01-26T12:33:39.396574351Z"
    }
   },
   "id": "2d95c872ce8c86d2",
   "execution_count": 9
  },
  {
   "cell_type": "code",
   "outputs": [],
   "source": [
    "pdb20000_p1 = pd.read_csv(\"../data/DBP_papers_data/test-10000unit-negative.csv\", header=None)\n",
    "pdb20000_p2 = pd.read_csv(\"../data/DBP_papers_data/test-10000unit-positive.csv\", header=None)\n",
    "pdb20000 = pd.concat([pdb20000_p1, pdb20000_p2])\n",
    "pdb20000.columns = [\"identifier\", \"sequence\", \"class_binder\"]\n",
    "pdb20000[\"identifier\"] = pdb20000[\"identifier\"].apply(process_col_id)"
   ],
   "metadata": {
    "collapsed": false,
    "ExecuteTime": {
     "end_time": "2024-01-26T12:33:40.495238552Z",
     "start_time": "2024-01-26T12:33:40.407532380Z"
    }
   },
   "id": "5e57976dcdef6ce7",
   "execution_count": 10
  },
  {
   "cell_type": "code",
   "outputs": [],
   "source": [
    "pdb1000_p1 = pd.read_csv(\"../data/DBP_papers_data/test-500unit-positive.csv\", header=None)\n",
    "pdb1000_p2 = pd.read_csv(\"../data/DBP_papers_data/test-500unit-negative.csv\", header=None)\n",
    "pdb1000 = pd.concat([pdb1000_p1, pdb1000_p2])\n",
    "pdb1000.columns = [\"identifier\", \"sequence\", \"class_binder\"]\n",
    "pdb1000[\"identifier\"] = pdb1000[\"identifier\"].apply(process_col_id)"
   ],
   "metadata": {
    "collapsed": false,
    "ExecuteTime": {
     "end_time": "2024-01-26T12:33:41.380233372Z",
     "start_time": "2024-01-26T12:33:41.354594596Z"
    }
   },
   "id": "ebc9f5d466163e19",
   "execution_count": 11
  },
  {
   "cell_type": "code",
   "outputs": [],
   "source": [
    "pdb14189_p1 = parse_text_v5(\"../data/DBP_papers_data/Table S1_7131_DNA-binding_proteins.txt\",\n",
    "                        mode=\"binders\")\n",
    "pdb14189_p2 = parse_text_v5(\"../data/DBP_papers_data/Table S1_7131_non_DNA-binding_proteins.txt\",\n",
    "                        mode=\"not_binders\")"
   ],
   "metadata": {
    "collapsed": false,
    "ExecuteTime": {
     "end_time": "2024-01-26T12:33:43.022013301Z",
     "start_time": "2024-01-26T12:33:43.001634705Z"
    }
   },
   "id": "41d6465e7e89d4d5",
   "execution_count": 12
  },
  {
   "cell_type": "code",
   "outputs": [
    {
     "data": {
      "text/plain": "14262"
     },
     "execution_count": 13,
     "metadata": {},
     "output_type": "execute_result"
    }
   ],
   "source": [
    "len(pdb14189_p1) + len(pdb14189_p2)"
   ],
   "metadata": {
    "collapsed": false,
    "ExecuteTime": {
     "end_time": "2024-01-26T12:33:43.773507050Z",
     "start_time": "2024-01-26T12:33:43.767082868Z"
    }
   },
   "id": "501bd88014b93602",
   "execution_count": 13
  },
  {
   "cell_type": "code",
   "outputs": [],
   "source": [
    "new_df = pd.read_csv(\"../data/DBP_papers_data/null_seqs_df.csv\")"
   ],
   "metadata": {
    "collapsed": false,
    "ExecuteTime": {
     "end_time": "2024-01-26T12:34:10.270458223Z",
     "start_time": "2024-01-26T12:34:10.195544055Z"
    }
   },
   "id": "b6bc0fb443f254b9",
   "execution_count": 15
  },
  {
   "cell_type": "code",
   "outputs": [],
   "source": [
    "new_df = new_df.loc[:, [\"identifier\", \"sequence\"]]"
   ],
   "metadata": {
    "collapsed": false,
    "ExecuteTime": {
     "end_time": "2024-01-26T12:34:59.487919624Z",
     "start_time": "2024-01-26T12:34:59.441735049Z"
    }
   },
   "id": "d160d2720be03883",
   "execution_count": 16
  },
  {
   "cell_type": "code",
   "outputs": [],
   "source": [
    "pdb14189_p1 = pdb14189_p1.merge(new_df, on=\"identifier\", how=\"inner\")\n",
    "pdb14189_p2 = pdb14189_p2.merge(new_df, on=\"identifier\", how=\"inner\")"
   ],
   "metadata": {
    "collapsed": false,
    "ExecuteTime": {
     "end_time": "2024-01-26T12:35:00.822940326Z",
     "start_time": "2024-01-26T12:35:00.797870211Z"
    }
   },
   "id": "ace8410e1b40fbaa",
   "execution_count": 17
  },
  {
   "cell_type": "code",
   "outputs": [
    {
     "data": {
      "text/plain": "14262"
     },
     "execution_count": 18,
     "metadata": {},
     "output_type": "execute_result"
    }
   ],
   "source": [
    "pdb14189 = pd.concat([pdb14189_p1, pdb14189_p2])\n",
    "len(pdb14189)"
   ],
   "metadata": {
    "collapsed": false,
    "ExecuteTime": {
     "end_time": "2024-01-26T12:35:01.695535081Z",
     "start_time": "2024-01-26T12:35:01.687674399Z"
    }
   },
   "id": "a281a943f788bf8e",
   "execution_count": 18
  },
  {
   "cell_type": "code",
   "outputs": [],
   "source": [
    "pdb14189 = pdb14189.loc[~pdb14189[\"identifier\"].duplicated()]"
   ],
   "metadata": {
    "collapsed": false,
    "ExecuteTime": {
     "end_time": "2024-01-26T12:35:03.033063419Z",
     "start_time": "2024-01-26T12:35:03.030281804Z"
    }
   },
   "id": "d85006d619d9b2f3",
   "execution_count": 19
  },
  {
   "cell_type": "code",
   "outputs": [],
   "source": [
    "def search_float(item):\n",
    "    return type(item) == float"
   ],
   "metadata": {
    "collapsed": false,
    "ExecuteTime": {
     "end_time": "2024-01-26T12:35:03.502541654Z",
     "start_time": "2024-01-26T12:35:03.495524643Z"
    }
   },
   "id": "cbab703417fcae35",
   "execution_count": 20
  },
  {
   "cell_type": "code",
   "outputs": [],
   "source": [
    "pdb14189 = pdb14189.loc[~pdb14189[\"sequence\"].apply(search_float)]"
   ],
   "metadata": {
    "collapsed": false,
    "ExecuteTime": {
     "end_time": "2024-01-26T12:35:04.272115248Z",
     "start_time": "2024-01-26T12:35:04.267683239Z"
    }
   },
   "id": "a674b1a1d593179e",
   "execution_count": 21
  },
  {
   "cell_type": "code",
   "outputs": [],
   "source": [
    "def check_duplicates(df):\n",
    "    return df[\"identifier\"].duplicated().any()"
   ],
   "metadata": {
    "collapsed": false,
    "ExecuteTime": {
     "end_time": "2024-01-26T12:35:08.913883758Z",
     "start_time": "2024-01-26T12:35:08.909664733Z"
    }
   },
   "id": "f5e8108357ae72c9",
   "execution_count": 22
  },
  {
   "cell_type": "code",
   "outputs": [
    {
     "data": {
      "text/plain": "  identifier                                           sequence  class_binder\n0     P98196  MDCSLVRTLVHRYCAGEENWVDSRTIYVGHREPPPGAEAYIPQRYP...             0\n1     Q9N0Z4  LGFDPPHQSDTRTIYIANRFPQNGLYTPQKFIDNRIISSKYTVWNF...             0\n2     Q9QZW0  MFRRTLNRLCAGEEKRVGTRTVFVGNHPISGTEPYIAQRFCDNRIV...             0\n3     Q8VDN2  MGKGVGRDKYEPAAVSEHGDKKGKKAKKERDMDELKKEVSMDDHKL...             0\n4     P04074  MGKGVGRDKYEPAAVSEHGDKKKAKKERDMDELKKEVSMDDHKLSL...             0",
      "text/html": "<div>\n<style scoped>\n    .dataframe tbody tr th:only-of-type {\n        vertical-align: middle;\n    }\n\n    .dataframe tbody tr th {\n        vertical-align: top;\n    }\n\n    .dataframe thead th {\n        text-align: right;\n    }\n</style>\n<table border=\"1\" class=\"dataframe\">\n  <thead>\n    <tr style=\"text-align: right;\">\n      <th></th>\n      <th>identifier</th>\n      <th>sequence</th>\n      <th>class_binder</th>\n    </tr>\n  </thead>\n  <tbody>\n    <tr>\n      <th>0</th>\n      <td>P98196</td>\n      <td>MDCSLVRTLVHRYCAGEENWVDSRTIYVGHREPPPGAEAYIPQRYP...</td>\n      <td>0</td>\n    </tr>\n    <tr>\n      <th>1</th>\n      <td>Q9N0Z4</td>\n      <td>LGFDPPHQSDTRTIYIANRFPQNGLYTPQKFIDNRIISSKYTVWNF...</td>\n      <td>0</td>\n    </tr>\n    <tr>\n      <th>2</th>\n      <td>Q9QZW0</td>\n      <td>MFRRTLNRLCAGEEKRVGTRTVFVGNHPISGTEPYIAQRFCDNRIV...</td>\n      <td>0</td>\n    </tr>\n    <tr>\n      <th>3</th>\n      <td>Q8VDN2</td>\n      <td>MGKGVGRDKYEPAAVSEHGDKKGKKAKKERDMDELKKEVSMDDHKL...</td>\n      <td>0</td>\n    </tr>\n    <tr>\n      <th>4</th>\n      <td>P04074</td>\n      <td>MGKGVGRDKYEPAAVSEHGDKKKAKKERDMDELKKEVSMDDHKLSL...</td>\n      <td>0</td>\n    </tr>\n  </tbody>\n</table>\n</div>"
     },
     "execution_count": 23,
     "metadata": {},
     "output_type": "execute_result"
    }
   ],
   "source": [
    "pdb20000.head()"
   ],
   "metadata": {
    "collapsed": false,
    "ExecuteTime": {
     "end_time": "2024-01-26T12:35:11.310571830Z",
     "start_time": "2024-01-26T12:35:11.292521439Z"
    }
   },
   "id": "84f688b66af110b0",
   "execution_count": 23
  },
  {
   "cell_type": "code",
   "outputs": [],
   "source": [
    "pdb186 = pd.read_csv(\"../data/DBP_papers_data/pdb186.csv\")"
   ],
   "metadata": {
    "collapsed": false,
    "ExecuteTime": {
     "end_time": "2024-01-26T12:35:19.601666789Z",
     "start_time": "2024-01-26T12:35:19.599749552Z"
    }
   },
   "id": "9e749147b228fe7c",
   "execution_count": 25
  },
  {
   "cell_type": "code",
   "outputs": [],
   "source": [
    "def process_id(x, source=\"pdb20000\"):\n",
    "    upd_id = x + \"_\" + source\n",
    "    return upd_id"
   ],
   "metadata": {
    "collapsed": false,
    "ExecuteTime": {
     "end_time": "2024-01-26T12:35:20.685921528Z",
     "start_time": "2024-01-26T12:35:20.679408032Z"
    }
   },
   "id": "3209781008689110",
   "execution_count": 26
  },
  {
   "cell_type": "code",
   "outputs": [
    {
     "data": {
      "text/plain": "False"
     },
     "execution_count": 27,
     "metadata": {},
     "output_type": "execute_result"
    }
   ],
   "source": [
    "check_duplicates(pdb20000)"
   ],
   "metadata": {
    "collapsed": false,
    "ExecuteTime": {
     "end_time": "2024-01-26T12:35:21.040196943Z",
     "start_time": "2024-01-26T12:35:21.030141057Z"
    }
   },
   "id": "adf2a56ba7ec5ff5",
   "execution_count": 27
  },
  {
   "cell_type": "code",
   "outputs": [
    {
     "data": {
      "text/plain": "False"
     },
     "execution_count": 28,
     "metadata": {},
     "output_type": "execute_result"
    }
   ],
   "source": [
    "check_duplicates(pdb186)"
   ],
   "metadata": {
    "collapsed": false,
    "ExecuteTime": {
     "end_time": "2024-01-26T12:35:21.356950072Z",
     "start_time": "2024-01-26T12:35:21.349589770Z"
    }
   },
   "id": "69b2d842ec9fc229",
   "execution_count": 28
  },
  {
   "cell_type": "code",
   "outputs": [
    {
     "data": {
      "text/plain": "False"
     },
     "execution_count": 29,
     "metadata": {},
     "output_type": "execute_result"
    }
   ],
   "source": [
    "check_duplicates(pdb14189)"
   ],
   "metadata": {
    "collapsed": false,
    "ExecuteTime": {
     "end_time": "2024-01-26T12:35:21.623051179Z",
     "start_time": "2024-01-26T12:35:21.617800942Z"
    }
   },
   "id": "e4c21c086e0b62c6",
   "execution_count": 29
  },
  {
   "cell_type": "code",
   "outputs": [
    {
     "data": {
      "text/plain": "False"
     },
     "execution_count": 30,
     "metadata": {},
     "output_type": "execute_result"
    }
   ],
   "source": [
    "check_duplicates(pdb1000)"
   ],
   "metadata": {
    "collapsed": false,
    "ExecuteTime": {
     "end_time": "2024-01-26T12:35:21.907004003Z",
     "start_time": "2024-01-26T12:35:21.901792509Z"
    }
   },
   "id": "dca9f936e79db58a",
   "execution_count": 30
  },
  {
   "cell_type": "code",
   "outputs": [
    {
     "data": {
      "text/plain": "False"
     },
     "execution_count": 31,
     "metadata": {},
     "output_type": "execute_result"
    }
   ],
   "source": [
    "check_duplicates(pdb67151)"
   ],
   "metadata": {
    "collapsed": false,
    "ExecuteTime": {
     "end_time": "2024-01-26T12:35:22.162087567Z",
     "start_time": "2024-01-26T12:35:22.156578539Z"
    }
   },
   "id": "eb9beb92e456c315",
   "execution_count": 31
  },
  {
   "cell_type": "code",
   "outputs": [
    {
     "data": {
      "text/plain": "False"
     },
     "execution_count": 32,
     "metadata": {},
     "output_type": "execute_result"
    }
   ],
   "source": [
    "check_duplicates(pdb1075)"
   ],
   "metadata": {
    "collapsed": false,
    "ExecuteTime": {
     "end_time": "2024-01-26T12:35:22.377257287Z",
     "start_time": "2024-01-26T12:35:22.369086958Z"
    }
   },
   "id": "d4be12492c12257c",
   "execution_count": 32
  },
  {
   "cell_type": "code",
   "outputs": [],
   "source": [
    "pdb20000[\"identifier\"] = pdb20000[\"identifier\"].apply(lambda x: process_id(x, source=\"pdb20000\"))"
   ],
   "metadata": {
    "collapsed": false,
    "ExecuteTime": {
     "end_time": "2024-01-26T12:36:40.930580744Z",
     "start_time": "2024-01-26T12:36:40.928485857Z"
    }
   },
   "id": "aa034d38842065ab",
   "execution_count": 36
  },
  {
   "cell_type": "code",
   "outputs": [],
   "source": [
    "pdb1075[\"identifier\"] = pdb1075[\"identifier\"].apply(lambda x: process_id(x, source=\"pdb1075\"))"
   ],
   "metadata": {
    "collapsed": false,
    "ExecuteTime": {
     "end_time": "2024-01-26T12:36:41.254150002Z",
     "start_time": "2024-01-26T12:36:41.248656885Z"
    }
   },
   "id": "2ec9d12b44fd5c3",
   "execution_count": 37
  },
  {
   "cell_type": "code",
   "outputs": [],
   "source": [
    "pdb14189[\"identifier\"] = pdb14189[\"identifier\"].apply(lambda x: process_id(x, source=\"pdb14189\"))"
   ],
   "metadata": {
    "collapsed": false,
    "ExecuteTime": {
     "end_time": "2024-01-26T12:36:41.464345658Z",
     "start_time": "2024-01-26T12:36:41.457119268Z"
    }
   },
   "id": "4820d69c3fc4e546",
   "execution_count": 38
  },
  {
   "cell_type": "code",
   "outputs": [],
   "source": [
    "pdb1000[\"identifier\"] = pdb1000[\"identifier\"].apply(lambda x: process_id(x, source=\"pdb1000\"))"
   ],
   "metadata": {
    "collapsed": false,
    "ExecuteTime": {
     "end_time": "2024-01-26T12:36:41.653368769Z",
     "start_time": "2024-01-26T12:36:41.646857724Z"
    }
   },
   "id": "9fd4066cf7a00945",
   "execution_count": 39
  },
  {
   "cell_type": "code",
   "outputs": [],
   "source": [
    "pdb67151[\"identifier\"] = pdb67151[\"identifier\"].apply(lambda x: process_id(x, source=\"pdb67151\"))"
   ],
   "metadata": {
    "collapsed": false,
    "ExecuteTime": {
     "end_time": "2024-01-26T12:36:41.872195836Z",
     "start_time": "2024-01-26T12:36:41.837156694Z"
    }
   },
   "id": "6a79ffd5b25118b4",
   "execution_count": 40
  },
  {
   "cell_type": "code",
   "outputs": [],
   "source": [
    "pdb186[\"identifier\"] = pdb186[\"identifier\"].apply(lambda x: process_id(x, source=\"pdb186\"))"
   ],
   "metadata": {
    "collapsed": false,
    "ExecuteTime": {
     "end_time": "2024-01-26T12:36:42.055308084Z",
     "start_time": "2024-01-26T12:36:42.048331029Z"
    }
   },
   "id": "3bbc6224a4731b6",
   "execution_count": 41
  },
  {
   "cell_type": "code",
   "outputs": [],
   "source": [
    "df = pd.concat([pdb20000, pdb14189, pdb1000, pdb67151, pdb1075, pdb186])"
   ],
   "metadata": {
    "collapsed": false,
    "ExecuteTime": {
     "end_time": "2024-01-26T12:36:43.022320064Z",
     "start_time": "2024-01-26T12:36:43.015293606Z"
    }
   },
   "id": "253d41ce8bb13c98",
   "execution_count": 42
  },
  {
   "cell_type": "code",
   "outputs": [
    {
     "data": {
      "text/plain": "        identifier                                           sequence  \\\n0  P98196_pdb20000  MDCSLVRTLVHRYCAGEENWVDSRTIYVGHREPPPGAEAYIPQRYP...   \n1  Q9N0Z4_pdb20000  LGFDPPHQSDTRTIYIANRFPQNGLYTPQKFIDNRIISSKYTVWNF...   \n2  Q9QZW0_pdb20000  MFRRTLNRLCAGEEKRVGTRTVFVGNHPISGTEPYIAQRFCDNRIV...   \n3  Q8VDN2_pdb20000  MGKGVGRDKYEPAAVSEHGDKKGKKAKKERDMDELKKEVSMDDHKL...   \n4  P04074_pdb20000  MGKGVGRDKYEPAAVSEHGDKKKAKKERDMDELKKEVSMDDHKLSL...   \n\n   class_binder  \n0             0  \n1             0  \n2             0  \n3             0  \n4             0  ",
      "text/html": "<div>\n<style scoped>\n    .dataframe tbody tr th:only-of-type {\n        vertical-align: middle;\n    }\n\n    .dataframe tbody tr th {\n        vertical-align: top;\n    }\n\n    .dataframe thead th {\n        text-align: right;\n    }\n</style>\n<table border=\"1\" class=\"dataframe\">\n  <thead>\n    <tr style=\"text-align: right;\">\n      <th></th>\n      <th>identifier</th>\n      <th>sequence</th>\n      <th>class_binder</th>\n    </tr>\n  </thead>\n  <tbody>\n    <tr>\n      <th>0</th>\n      <td>P98196_pdb20000</td>\n      <td>MDCSLVRTLVHRYCAGEENWVDSRTIYVGHREPPPGAEAYIPQRYP...</td>\n      <td>0</td>\n    </tr>\n    <tr>\n      <th>1</th>\n      <td>Q9N0Z4_pdb20000</td>\n      <td>LGFDPPHQSDTRTIYIANRFPQNGLYTPQKFIDNRIISSKYTVWNF...</td>\n      <td>0</td>\n    </tr>\n    <tr>\n      <th>2</th>\n      <td>Q9QZW0_pdb20000</td>\n      <td>MFRRTLNRLCAGEEKRVGTRTVFVGNHPISGTEPYIAQRFCDNRIV...</td>\n      <td>0</td>\n    </tr>\n    <tr>\n      <th>3</th>\n      <td>Q8VDN2_pdb20000</td>\n      <td>MGKGVGRDKYEPAAVSEHGDKKGKKAKKERDMDELKKEVSMDDHKL...</td>\n      <td>0</td>\n    </tr>\n    <tr>\n      <th>4</th>\n      <td>P04074_pdb20000</td>\n      <td>MGKGVGRDKYEPAAVSEHGDKKKAKKERDMDELKKEVSMDDHKLSL...</td>\n      <td>0</td>\n    </tr>\n  </tbody>\n</table>\n</div>"
     },
     "execution_count": 43,
     "metadata": {},
     "output_type": "execute_result"
    }
   ],
   "source": [
    "df.head()"
   ],
   "metadata": {
    "collapsed": false,
    "ExecuteTime": {
     "end_time": "2024-01-26T12:36:43.412115199Z",
     "start_time": "2024-01-26T12:36:43.403481903Z"
    }
   },
   "id": "4d02945e9055781d",
   "execution_count": 43
  },
  {
   "cell_type": "code",
   "outputs": [],
   "source": [
    "def valid_sequence(sequence: str) -> bool:\n",
    "    valid_amino_acids = \"SNYLRQDPMFCEWGTKIVAH\"\n",
    "    return all(char in valid_amino_acids for char in sequence)"
   ],
   "metadata": {
    "collapsed": false,
    "ExecuteTime": {
     "end_time": "2024-01-26T12:40:11.375852229Z",
     "start_time": "2024-01-26T12:40:11.332102296Z"
    }
   },
   "id": "72368831c470136e",
   "execution_count": 46
  },
  {
   "cell_type": "code",
   "outputs": [],
   "source": [
    "df = df.loc[df[\"sequence\"].apply(valid_sequence)]"
   ],
   "metadata": {
    "collapsed": false,
    "ExecuteTime": {
     "end_time": "2024-01-26T12:42:58.002785887Z",
     "start_time": "2024-01-26T12:42:57.083782391Z"
    }
   },
   "id": "6f7d119c4306e38",
   "execution_count": 52
  },
  {
   "cell_type": "code",
   "outputs": [],
   "source": [
    "def save_csv(df, name):\n",
    "    path_csv = \"../data/DBP_papers_data/\"\n",
    "    path_csv += name\n",
    "    df.to_csv(path_csv, index=False)"
   ],
   "metadata": {
    "collapsed": false,
    "ExecuteTime": {
     "end_time": "2024-01-26T12:43:56.695990417Z",
     "start_time": "2024-01-26T12:43:56.652636322Z"
    }
   },
   "id": "a7bdce590a6147e8",
   "execution_count": 55
  },
  {
   "cell_type": "code",
   "outputs": [],
   "source": [
    "save_csv(df, \"benchmark_data.csv\")"
   ],
   "metadata": {
    "collapsed": false,
    "ExecuteTime": {
     "end_time": "2024-01-26T12:43:57.409821942Z",
     "start_time": "2024-01-26T12:43:56.879197974Z"
    }
   },
   "id": "4735e00e7f2d0ef0",
   "execution_count": 56
  }
 ],
 "metadata": {
  "kernelspec": {
   "display_name": "Python 3",
   "language": "python",
   "name": "python3"
  },
  "language_info": {
   "codemirror_mode": {
    "name": "ipython",
    "version": 2
   },
   "file_extension": ".py",
   "mimetype": "text/x-python",
   "name": "python",
   "nbconvert_exporter": "python",
   "pygments_lexer": "ipython2",
   "version": "2.7.6"
  }
 },
 "nbformat": 4,
 "nbformat_minor": 5
}
