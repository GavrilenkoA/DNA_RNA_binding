{
 "cells": [
  {
   "cell_type": "code",
   "execution_count": 6,
   "id": "initial_id",
   "metadata": {
    "collapsed": true,
    "ExecuteTime": {
     "end_time": "2024-01-17T19:08:46.089841700Z",
     "start_time": "2024-01-17T19:08:46.087761115Z"
    }
   },
   "outputs": [],
   "source": [
    "import pandas as pd\n",
    "from pypdf import PdfReader"
   ]
  },
  {
   "cell_type": "code",
   "outputs": [],
   "source": [
    "def process_csv(path_csv):\n",
    "    df = pd.read_csv(path_csv, header=None)\n",
    "    \n",
    "    new_column_names = {0: \"identifier\", 1: \"sequence\", 2: \"class_binder\"}\n",
    "    df = df.rename(columns=new_column_names)\n",
    "    \n",
    "    def process_id(x):\n",
    "        if len(x) > 5:\n",
    "            id_ = x.split(\"|\")[1]\n",
    "            return id_\n",
    "        else:\n",
    "            return x\n",
    "    \n",
    "    df.insert(1, \"class_binder\", df.pop(\"class_binder\"))\n",
    "    \n",
    "    df[\"identifier\"] = df[\"identifier\"].apply(process_id)\n",
    "    return df"
   ],
   "metadata": {
    "collapsed": false,
    "ExecuteTime": {
     "end_time": "2024-01-17T19:08:46.346748446Z",
     "start_time": "2024-01-17T19:08:46.340181578Z"
    }
   },
   "id": "810c8b0aa67dd0c5",
   "execution_count": 7
  },
  {
   "cell_type": "code",
   "outputs": [],
   "source": [
    "def process_text(data_seq, mode=\"binders\"):\n",
    "    sequences = []\n",
    "    identifiers = []\n",
    "\n",
    "    text = data_seq.split(\"\\n\")\n",
    "    text = [item for item in text if item]\n",
    "    \n",
    "    seq = \"\"\n",
    "    for item in text:\n",
    "        if item[0] == \">\":\n",
    "            identifiers.append(item[1:])\n",
    "            if seq:\n",
    "                seq = \"\".join([char for char in seq if not char.isdigit()])\n",
    "                sequences.append(seq)\n",
    "                seq = \"\"\n",
    "        elif not item[0].isdigit():\n",
    "            seq += item\n",
    "    \n",
    "    seq = \"\".join([char for char in seq if not char.isdigit()])\n",
    "    sequences.append(seq)\n",
    "    \n",
    "    assert len(identifiers) == len(sequences)\n",
    "    \n",
    "    if mode == \"binders\":\n",
    "        class_binders = [1] * len(sequences)\n",
    "    else:\n",
    "        class_binders = [0] * len(sequences)\n",
    "    \n",
    "    df = pd.DataFrame({\"identifier\": identifiers, \"class_binder\": class_binders, \"sequence\": sequences})\n",
    "    return df"
   ],
   "metadata": {
    "collapsed": false,
    "ExecuteTime": {
     "end_time": "2024-01-17T19:08:46.547533880Z",
     "start_time": "2024-01-17T19:08:46.541465962Z"
    }
   },
   "id": "7f941daa4c36af5a",
   "execution_count": 8
  },
  {
   "cell_type": "code",
   "outputs": [],
   "source": [
    "def parse_pdf_v2(path, split_1, split_2):\n",
    "    pdf = PdfReader(path)\n",
    "    text = \"\"\n",
    "    for page in pdf.pages:\n",
    "        text += page.extract_text()\n",
    "        \n",
    "    text = text.replace(\" \", \"\")\n",
    "    _, text = text.split(f\"{split_1}DNA-bindingproteins\")\n",
    "    \n",
    "    binders, not_binders = text.split(f\"(2).{split_2}nonDNA-bindingproteins\")\n",
    "    return binders, not_binders"
   ],
   "metadata": {
    "collapsed": false,
    "ExecuteTime": {
     "end_time": "2024-01-17T19:08:46.738528414Z",
     "start_time": "2024-01-17T19:08:46.731172615Z"
    }
   },
   "id": "f22e4643302d6b40",
   "execution_count": 9
  },
  {
   "cell_type": "code",
   "outputs": [],
   "source": [
    "def process_col_id(x):\n",
    "    id_ = x.split(\"|\")[1]\n",
    "    return id_"
   ],
   "metadata": {
    "collapsed": false,
    "ExecuteTime": {
     "end_time": "2024-01-17T19:08:46.906989636Z",
     "start_time": "2024-01-17T19:08:46.901112945Z"
    }
   },
   "id": "6000842f04a9707a",
   "execution_count": 10
  },
  {
   "cell_type": "code",
   "outputs": [],
   "source": [
    "def parse_text_v5(path, mode=\"binders\"):\n",
    "    with open(path) as fi:\n",
    "        lines = fi.readlines()\n",
    "    lines = [line.strip() for line in lines if line.strip()]\n",
    "    \n",
    "    identifiers = []\n",
    "    for head in lines:\n",
    "        identifiers.append(head)\n",
    "    \n",
    "    if mode == \"binders\":\n",
    "        class_binders = [1] * len(identifiers)\n",
    "    else:\n",
    "        class_binders = [0] * len(identifiers)\n",
    "    \n",
    "    df = pd.DataFrame({\"identifier\": identifiers, \"class_binder\": class_binders})\n",
    "    return df"
   ],
   "metadata": {
    "collapsed": false,
    "ExecuteTime": {
     "end_time": "2024-01-17T19:08:47.103009911Z",
     "start_time": "2024-01-17T19:08:47.097736093Z"
    }
   },
   "id": "55a68198e994b6da",
   "execution_count": 11
  },
  {
   "cell_type": "code",
   "outputs": [],
   "source": [
    "pdb67151 = process_csv(\"../data/pdb_data_papers/DBP/train-17151+50000-unbalance.csv\")"
   ],
   "metadata": {
    "collapsed": false,
    "ExecuteTime": {
     "end_time": "2024-01-17T19:08:47.539074975Z",
     "start_time": "2024-01-17T19:08:47.283617026Z"
    }
   },
   "id": "75ffa804b6a1a6cc",
   "execution_count": 12
  },
  {
   "cell_type": "code",
   "outputs": [],
   "source": [
    "binders, not_binders = parse_pdf_v2(\"../data/pdb_data_papers/DBP/minf_201400025_sm_s4.pdf\", \"525\", \"550\")"
   ],
   "metadata": {
    "collapsed": false,
    "ExecuteTime": {
     "end_time": "2024-01-17T19:08:48.961150229Z",
     "start_time": "2024-01-17T19:08:47.539597251Z"
    }
   },
   "id": "63e199f21de894d4",
   "execution_count": 13
  },
  {
   "cell_type": "code",
   "outputs": [],
   "source": [
    "pdb1075p1 = process_text(binders, mode=\"binders\")\n",
    "pdb1075p2 = process_text(not_binders, mode=\"not_binders\")\n",
    "pdb1075 = pd.concat([pdb1075p1, pdb1075p2])"
   ],
   "metadata": {
    "collapsed": false,
    "ExecuteTime": {
     "end_time": "2024-01-17T19:08:48.978830380Z",
     "start_time": "2024-01-17T19:08:48.971357526Z"
    }
   },
   "id": "2d95c872ce8c86d2",
   "execution_count": 14
  },
  {
   "cell_type": "code",
   "outputs": [],
   "source": [
    "pdb20000_p1 = pd.read_csv(\"../data/pdb_data_papers/DBP/test-10000unit-negative.csv\", header=None)\n",
    "pdb20000_p2 = pd.read_csv(\"../data/pdb_data_papers/DBP/test-10000unit-positive.csv\", header=None)\n",
    "pdb20000 = pd.concat([pdb20000_p1, pdb20000_p2])\n",
    "pdb20000.columns = [\"identifier\", \"sequence\", \"class_binder\"]\n",
    "pdb20000[\"identifier\"] = pdb20000[\"identifier\"].apply(process_col_id)"
   ],
   "metadata": {
    "collapsed": false,
    "ExecuteTime": {
     "end_time": "2024-01-17T19:08:49.045264099Z",
     "start_time": "2024-01-17T19:08:48.975437120Z"
    }
   },
   "id": "5e57976dcdef6ce7",
   "execution_count": 15
  },
  {
   "cell_type": "code",
   "outputs": [],
   "source": [],
   "metadata": {
    "collapsed": false,
    "ExecuteTime": {
     "end_time": "2024-01-17T19:08:49.047883792Z",
     "start_time": "2024-01-17T19:08:49.045779880Z"
    }
   },
   "id": "e90636909d930045",
   "execution_count": 15
  },
  {
   "cell_type": "code",
   "outputs": [],
   "source": [
    "pdb1000_p1 = pd.read_csv(\"../data/pdb_data_papers/DBP/test-500unit-positive.csv\", header=None)\n",
    "pdb1000_p2 = pd.read_csv(\"../data/pdb_data_papers/DBP/test-500unit-negative.csv\", header=None)\n",
    "pdb1000 = pd.concat([pdb1000_p1, pdb1000_p2])\n",
    "pdb1000.columns = [\"identifier\", \"sequence\", \"class_binder\"]\n",
    "pdb1000[\"identifier\"] = pdb1000[\"identifier\"].apply(process_col_id)"
   ],
   "metadata": {
    "collapsed": false,
    "ExecuteTime": {
     "end_time": "2024-01-17T19:08:49.060383434Z",
     "start_time": "2024-01-17T19:08:49.049237953Z"
    }
   },
   "id": "ebc9f5d466163e19",
   "execution_count": 16
  },
  {
   "cell_type": "code",
   "outputs": [],
   "source": [
    "pdb14189_p1 = parse_text_v5(\"../data/pdb_data_papers/DBP/Table S1_7131_DNA-binding_proteins.txt\",\n",
    "                        mode=\"binders\")\n",
    "pdb14189_p2 = parse_text_v5(\"../data/pdb_data_papers/DBP/Table S1_7131_non_DNA-binding_proteins.txt\",\n",
    "                        mode=\"not_binders\")"
   ],
   "metadata": {
    "collapsed": false,
    "ExecuteTime": {
     "end_time": "2024-01-17T19:08:49.357071183Z",
     "start_time": "2024-01-17T19:08:49.349606989Z"
    }
   },
   "id": "41d6465e7e89d4d5",
   "execution_count": 17
  },
  {
   "cell_type": "code",
   "outputs": [],
   "source": [
    "new_df = pd.read_csv(\"../data/pdb_data_papers/DBP/null_seqs_df.csv\")"
   ],
   "metadata": {
    "collapsed": false,
    "ExecuteTime": {
     "end_time": "2024-01-17T19:08:49.690817086Z",
     "start_time": "2024-01-17T19:08:49.619318166Z"
    }
   },
   "id": "b6bc0fb443f254b9",
   "execution_count": 18
  },
  {
   "cell_type": "code",
   "outputs": [],
   "source": [
    "new_df = new_df.loc[:, [\"identifier\", \"sequence\"]]"
   ],
   "metadata": {
    "collapsed": false,
    "ExecuteTime": {
     "end_time": "2024-01-17T19:08:49.845673002Z",
     "start_time": "2024-01-17T19:08:49.839782621Z"
    }
   },
   "id": "d160d2720be03883",
   "execution_count": 19
  },
  {
   "cell_type": "code",
   "outputs": [],
   "source": [
    "pdb14189_p1 = pdb14189_p1.merge(new_df, on=\"identifier\", how=\"inner\")\n",
    "pdb14189_p2 = pdb14189_p2.merge(new_df, on=\"identifier\", how=\"inner\")"
   ],
   "metadata": {
    "collapsed": false,
    "ExecuteTime": {
     "end_time": "2024-01-17T19:08:50.081057743Z",
     "start_time": "2024-01-17T19:08:50.069237592Z"
    }
   },
   "id": "ace8410e1b40fbaa",
   "execution_count": 20
  },
  {
   "cell_type": "code",
   "outputs": [],
   "source": [
    "pdb14189 = pd.concat([pdb14189_p1, pdb14189_p2])\n",
    "pdb14189 = pdb14189.loc[~pdb14189[\"identifier\"].duplicated()]"
   ],
   "metadata": {
    "collapsed": false,
    "ExecuteTime": {
     "end_time": "2024-01-17T19:08:50.287675031Z",
     "start_time": "2024-01-17T19:08:50.278488890Z"
    }
   },
   "id": "a281a943f788bf8e",
   "execution_count": 21
  },
  {
   "cell_type": "code",
   "outputs": [],
   "source": [
    "def check_duplicates(df):\n",
    "    return df[\"identifier\"].duplicated().any()"
   ],
   "metadata": {
    "collapsed": false,
    "ExecuteTime": {
     "end_time": "2024-01-17T19:08:50.461354547Z",
     "start_time": "2024-01-17T19:08:50.419918574Z"
    }
   },
   "id": "f5e8108357ae72c9",
   "execution_count": 22
  },
  {
   "cell_type": "code",
   "outputs": [
    {
     "data": {
      "text/plain": "False"
     },
     "execution_count": 23,
     "metadata": {},
     "output_type": "execute_result"
    }
   ],
   "source": [
    "check_duplicates(pdb20000)"
   ],
   "metadata": {
    "collapsed": false,
    "ExecuteTime": {
     "end_time": "2024-01-17T19:08:51.400160117Z",
     "start_time": "2024-01-17T19:08:51.394406417Z"
    }
   },
   "id": "adf2a56ba7ec5ff5",
   "execution_count": 23
  },
  {
   "cell_type": "code",
   "outputs": [
    {
     "data": {
      "text/plain": "False"
     },
     "execution_count": 24,
     "metadata": {},
     "output_type": "execute_result"
    }
   ],
   "source": [
    "check_duplicates(pdb14189)"
   ],
   "metadata": {
    "collapsed": false,
    "ExecuteTime": {
     "end_time": "2024-01-17T19:08:51.761141077Z",
     "start_time": "2024-01-17T19:08:51.755025946Z"
    }
   },
   "id": "e4c21c086e0b62c6",
   "execution_count": 24
  },
  {
   "cell_type": "code",
   "outputs": [
    {
     "data": {
      "text/plain": "False"
     },
     "execution_count": 25,
     "metadata": {},
     "output_type": "execute_result"
    }
   ],
   "source": [
    "check_duplicates(pdb1000)"
   ],
   "metadata": {
    "collapsed": false,
    "ExecuteTime": {
     "end_time": "2024-01-17T19:08:51.979298521Z",
     "start_time": "2024-01-17T19:08:51.970255695Z"
    }
   },
   "id": "dca9f936e79db58a",
   "execution_count": 25
  },
  {
   "cell_type": "code",
   "outputs": [
    {
     "data": {
      "text/plain": "False"
     },
     "execution_count": 26,
     "metadata": {},
     "output_type": "execute_result"
    }
   ],
   "source": [
    "check_duplicates(pdb67151)"
   ],
   "metadata": {
    "collapsed": false,
    "ExecuteTime": {
     "end_time": "2024-01-17T19:08:52.432189083Z",
     "start_time": "2024-01-17T19:08:52.428078130Z"
    }
   },
   "id": "eb9beb92e456c315",
   "execution_count": 26
  },
  {
   "cell_type": "code",
   "outputs": [
    {
     "data": {
      "text/plain": "False"
     },
     "execution_count": 27,
     "metadata": {},
     "output_type": "execute_result"
    }
   ],
   "source": [
    "check_duplicates(pdb1075)"
   ],
   "metadata": {
    "collapsed": false,
    "ExecuteTime": {
     "end_time": "2024-01-17T19:08:52.821696193Z",
     "start_time": "2024-01-17T19:08:52.813049160Z"
    }
   },
   "id": "d4be12492c12257c",
   "execution_count": 27
  },
  {
   "cell_type": "code",
   "outputs": [],
   "source": [
    "df = pd.concat([pdb20000, pdb14189, pdb1000, pdb67151, pdb1075])"
   ],
   "metadata": {
    "collapsed": false,
    "ExecuteTime": {
     "end_time": "2024-01-17T19:09:49.672693994Z",
     "start_time": "2024-01-17T19:09:49.625118446Z"
    }
   },
   "id": "253d41ce8bb13c98",
   "execution_count": 29
  },
  {
   "cell_type": "code",
   "outputs": [
    {
     "data": {
      "text/plain": "      identifier                                           sequence  \\\n1         A6NI15  MDNLRETFLSLEDGLGSSDSPGLLSSWDWKDRAGPFELNQASPSQS...   \n6         Q0V7X4  MEGRVNALSNINDLELHNFLVDPNFDQFINLIRGDHQTIDENPVLD...   \n9         Q60EQ4  MADGPGSPGGGGGSHESGSPRGGGGGGGGGGGGGGVREQDRFLPIA...   \n14        Q8ITI5  MVVTTATKPHPFSIENILKSASPKPQKPLFSYNALIAMAISQSPLK...   \n15        Q8GXM7  MALSPNSSSLDLTISIPSFSPSPSLGDHHGMRDFDINQTPKTEEDR...   \n...          ...                                                ...   \n67146     Q9FN69  MATGQNRTTVPENLKKHLAVSVRNIQWSYGIFWSVSASQSGVLEWG...   \n67147     P0ACL5  MKDERRPICEVVAESIERLIIDGVLKVGQPLPSERRLCEKLGFSRS...   \n67148     P48590  MAATNTHYYADSMYNMYHHALPPTYYDNTSSSSSYYQSSQGWQPAS...   \n67149     P02835  MATTNSQSHYSYADNMNMYNMYHPHSLPPTYYDNSGSNAYYQNTSN...   \n67150     P0ACK8  MKAARQQAIVDLLLNHTSLTTEALSEQLKVSKETIRRDLNELQTQG...   \n\n       class_binder  \n1                 1  \n6                 1  \n9                 1  \n14                1  \n15                1  \n...             ...  \n67146             1  \n67147             1  \n67148             1  \n67149             1  \n67150             1  \n\n[17553 rows x 3 columns]",
      "text/html": "<div>\n<style scoped>\n    .dataframe tbody tr th:only-of-type {\n        vertical-align: middle;\n    }\n\n    .dataframe tbody tr th {\n        vertical-align: top;\n    }\n\n    .dataframe thead th {\n        text-align: right;\n    }\n</style>\n<table border=\"1\" class=\"dataframe\">\n  <thead>\n    <tr style=\"text-align: right;\">\n      <th></th>\n      <th>identifier</th>\n      <th>sequence</th>\n      <th>class_binder</th>\n    </tr>\n  </thead>\n  <tbody>\n    <tr>\n      <th>1</th>\n      <td>A6NI15</td>\n      <td>MDNLRETFLSLEDGLGSSDSPGLLSSWDWKDRAGPFELNQASPSQS...</td>\n      <td>1</td>\n    </tr>\n    <tr>\n      <th>6</th>\n      <td>Q0V7X4</td>\n      <td>MEGRVNALSNINDLELHNFLVDPNFDQFINLIRGDHQTIDENPVLD...</td>\n      <td>1</td>\n    </tr>\n    <tr>\n      <th>9</th>\n      <td>Q60EQ4</td>\n      <td>MADGPGSPGGGGGSHESGSPRGGGGGGGGGGGGGGVREQDRFLPIA...</td>\n      <td>1</td>\n    </tr>\n    <tr>\n      <th>14</th>\n      <td>Q8ITI5</td>\n      <td>MVVTTATKPHPFSIENILKSASPKPQKPLFSYNALIAMAISQSPLK...</td>\n      <td>1</td>\n    </tr>\n    <tr>\n      <th>15</th>\n      <td>Q8GXM7</td>\n      <td>MALSPNSSSLDLTISIPSFSPSPSLGDHHGMRDFDINQTPKTEEDR...</td>\n      <td>1</td>\n    </tr>\n    <tr>\n      <th>...</th>\n      <td>...</td>\n      <td>...</td>\n      <td>...</td>\n    </tr>\n    <tr>\n      <th>67146</th>\n      <td>Q9FN69</td>\n      <td>MATGQNRTTVPENLKKHLAVSVRNIQWSYGIFWSVSASQSGVLEWG...</td>\n      <td>1</td>\n    </tr>\n    <tr>\n      <th>67147</th>\n      <td>P0ACL5</td>\n      <td>MKDERRPICEVVAESIERLIIDGVLKVGQPLPSERRLCEKLGFSRS...</td>\n      <td>1</td>\n    </tr>\n    <tr>\n      <th>67148</th>\n      <td>P48590</td>\n      <td>MAATNTHYYADSMYNMYHHALPPTYYDNTSSSSSYYQSSQGWQPAS...</td>\n      <td>1</td>\n    </tr>\n    <tr>\n      <th>67149</th>\n      <td>P02835</td>\n      <td>MATTNSQSHYSYADNMNMYNMYHPHSLPPTYYDNSGSNAYYQNTSN...</td>\n      <td>1</td>\n    </tr>\n    <tr>\n      <th>67150</th>\n      <td>P0ACK8</td>\n      <td>MKAARQQAIVDLLLNHTSLTTEALSEQLKVSKETIRRDLNELQTQG...</td>\n      <td>1</td>\n    </tr>\n  </tbody>\n</table>\n<p>17553 rows × 3 columns</p>\n</div>"
     },
     "execution_count": 35,
     "metadata": {},
     "output_type": "execute_result"
    }
   ],
   "source": [
    "df[df[\"identifier\"].duplicated()]"
   ],
   "metadata": {
    "collapsed": false,
    "ExecuteTime": {
     "end_time": "2024-01-17T19:11:47.078285811Z",
     "start_time": "2024-01-17T19:11:47.070918068Z"
    }
   },
   "id": "4d02945e9055781d",
   "execution_count": 35
  },
  {
   "cell_type": "code",
   "outputs": [
    {
     "data": {
      "text/plain": "      identifier                                           sequence  \\\n2456      Q9L9G1  MTNSGDEEITPASLKATRKGERVSIGSLLPPSELVRSGESTEHIRV...   \n30        Q9L9G1  MTNSGDEEITPASLKATRKGERVSIGSLLPPSELVRSGESTEHIRV...   \n64125     Q9L9G1  MTNSGDEEITPASLKATRKGERVSIGSLLPPSELVRSGESTEHIRV...   \n\n       class_binder  \n2456              1  \n30                1  \n64125             1  ",
      "text/html": "<div>\n<style scoped>\n    .dataframe tbody tr th:only-of-type {\n        vertical-align: middle;\n    }\n\n    .dataframe tbody tr th {\n        vertical-align: top;\n    }\n\n    .dataframe thead th {\n        text-align: right;\n    }\n</style>\n<table border=\"1\" class=\"dataframe\">\n  <thead>\n    <tr style=\"text-align: right;\">\n      <th></th>\n      <th>identifier</th>\n      <th>sequence</th>\n      <th>class_binder</th>\n    </tr>\n  </thead>\n  <tbody>\n    <tr>\n      <th>2456</th>\n      <td>Q9L9G1</td>\n      <td>MTNSGDEEITPASLKATRKGERVSIGSLLPPSELVRSGESTEHIRV...</td>\n      <td>1</td>\n    </tr>\n    <tr>\n      <th>30</th>\n      <td>Q9L9G1</td>\n      <td>MTNSGDEEITPASLKATRKGERVSIGSLLPPSELVRSGESTEHIRV...</td>\n      <td>1</td>\n    </tr>\n    <tr>\n      <th>64125</th>\n      <td>Q9L9G1</td>\n      <td>MTNSGDEEITPASLKATRKGERVSIGSLLPPSELVRSGESTEHIRV...</td>\n      <td>1</td>\n    </tr>\n  </tbody>\n</table>\n</div>"
     },
     "execution_count": 36,
     "metadata": {},
     "output_type": "execute_result"
    }
   ],
   "source": [
    "df[df[\"identifier\"] == \"Q9L9G1\"]"
   ],
   "metadata": {
    "collapsed": false,
    "ExecuteTime": {
     "end_time": "2024-01-17T19:12:06.569769395Z",
     "start_time": "2024-01-17T19:12:06.525596395Z"
    }
   },
   "id": "a81dea4fdac1447f",
   "execution_count": 36
  },
  {
   "cell_type": "code",
   "outputs": [],
   "source": [],
   "metadata": {
    "collapsed": false
   },
   "id": "4872ae928b51e723"
  },
  {
   "cell_type": "code",
   "outputs": [],
   "source": [
    "def save_csv(df, name):\n",
    "    path_csv = \"../data/pdb_data_papers/DBP/\"\n",
    "    path_csv += name\n",
    "    df.to_csv(path_csv, index=False)"
   ],
   "metadata": {
    "collapsed": false,
    "ExecuteTime": {
     "end_time": "2024-01-17T15:25:51.690219400Z",
     "start_time": "2024-01-17T15:25:51.685754772Z"
    }
   },
   "id": "a7bdce590a6147e8",
   "execution_count": 164
  },
  {
   "cell_type": "code",
   "outputs": [],
   "source": [
    "save_csv(pdb20000, \"pdb20000.csv\")"
   ],
   "metadata": {
    "collapsed": false,
    "ExecuteTime": {
     "end_time": "2024-01-17T15:25:53.079240365Z",
     "start_time": "2024-01-17T15:25:52.977076191Z"
    }
   },
   "id": "4735e00e7f2d0ef0",
   "execution_count": 165
  },
  {
   "cell_type": "code",
   "outputs": [],
   "source": [
    "save_csv(pdb1075, \"pdb1075.csv\")"
   ],
   "metadata": {
    "collapsed": false,
    "ExecuteTime": {
     "end_time": "2024-01-17T15:25:53.537089139Z",
     "start_time": "2024-01-17T15:25:53.531218064Z"
    }
   },
   "id": "b54d2e8e90c21db7",
   "execution_count": 166
  },
  {
   "cell_type": "code",
   "outputs": [],
   "source": [
    "save_csv(pdb67151, \"pdb67151.csv\")"
   ],
   "metadata": {
    "collapsed": false,
    "ExecuteTime": {
     "end_time": "2024-01-17T15:25:54.256957015Z",
     "start_time": "2024-01-17T15:25:53.929289924Z"
    }
   },
   "id": "ccbdf87a59f64c1a",
   "execution_count": 167
  },
  {
   "cell_type": "code",
   "outputs": [],
   "source": [
    "save_csv(pdb1000, \"pdb1000.csv\")"
   ],
   "metadata": {
    "collapsed": false,
    "ExecuteTime": {
     "end_time": "2024-01-17T15:25:55.497070664Z",
     "start_time": "2024-01-17T15:25:55.478815644Z"
    }
   },
   "id": "183e48372df74fcd",
   "execution_count": 168
  },
  {
   "cell_type": "code",
   "outputs": [],
   "source": [
    "save_csv(pdb14189, \"pdb14189.csv\")"
   ],
   "metadata": {
    "collapsed": false,
    "ExecuteTime": {
     "end_time": "2024-01-17T15:25:57.176026051Z",
     "start_time": "2024-01-17T15:25:57.097803088Z"
    }
   },
   "id": "85e237083fcd77ce",
   "execution_count": 169
  },
  {
   "cell_type": "code",
   "outputs": [
    {
     "data": {
      "text/plain": "  identifier  class_binder                                           sequence\n0     Q6A8L0             1  MSGHSKWATTKHKKAAIDAKRGKLFARLIKNIEVAARLGGGDPSGN...\n1     A6NI15             1  MDNLRETFLSLEDGLGSSDSPGLLSSWDWKDRAGPFELNQASPSQS...\n2     Q8N1G0             1  MGDMKTPDFDDLLAAFDIPDIDANEAIHSGPEENEGPGGPGKPEPG...\n3     Q83NU2             1  MDATVTVVGNLTADPELRYTATGAAVVNMTIASTPRMYDRQSGEWK...\n4     P48383             1  MNPSDLPGQIPLSRSDMNVQDQLDPVQRFDTHFMLPQEENFLNRPS...",
      "text/html": "<div>\n<style scoped>\n    .dataframe tbody tr th:only-of-type {\n        vertical-align: middle;\n    }\n\n    .dataframe tbody tr th {\n        vertical-align: top;\n    }\n\n    .dataframe thead th {\n        text-align: right;\n    }\n</style>\n<table border=\"1\" class=\"dataframe\">\n  <thead>\n    <tr style=\"text-align: right;\">\n      <th></th>\n      <th>identifier</th>\n      <th>class_binder</th>\n      <th>sequence</th>\n    </tr>\n  </thead>\n  <tbody>\n    <tr>\n      <th>0</th>\n      <td>Q6A8L0</td>\n      <td>1</td>\n      <td>MSGHSKWATTKHKKAAIDAKRGKLFARLIKNIEVAARLGGGDPSGN...</td>\n    </tr>\n    <tr>\n      <th>1</th>\n      <td>A6NI15</td>\n      <td>1</td>\n      <td>MDNLRETFLSLEDGLGSSDSPGLLSSWDWKDRAGPFELNQASPSQS...</td>\n    </tr>\n    <tr>\n      <th>2</th>\n      <td>Q8N1G0</td>\n      <td>1</td>\n      <td>MGDMKTPDFDDLLAAFDIPDIDANEAIHSGPEENEGPGGPGKPEPG...</td>\n    </tr>\n    <tr>\n      <th>3</th>\n      <td>Q83NU2</td>\n      <td>1</td>\n      <td>MDATVTVVGNLTADPELRYTATGAAVVNMTIASTPRMYDRQSGEWK...</td>\n    </tr>\n    <tr>\n      <th>4</th>\n      <td>P48383</td>\n      <td>1</td>\n      <td>MNPSDLPGQIPLSRSDMNVQDQLDPVQRFDTHFMLPQEENFLNRPS...</td>\n    </tr>\n  </tbody>\n</table>\n</div>"
     },
     "execution_count": 174,
     "metadata": {},
     "output_type": "execute_result"
    }
   ],
   "source": [
    "pdb14189.head()"
   ],
   "metadata": {
    "collapsed": false,
    "ExecuteTime": {
     "end_time": "2024-01-17T15:26:25.761267965Z",
     "start_time": "2024-01-17T15:26:25.755777815Z"
    }
   },
   "id": "80895cc9fa610389",
   "execution_count": 174
  },
  {
   "cell_type": "code",
   "outputs": [],
   "source": [
    "dbp_biolip = pd.read_csv(\"../data/biolip/dna_binders_biolip.csv\")\n",
    "dbp_biolip.drop([\"source\"], axis=1, inplace=True)"
   ],
   "metadata": {
    "collapsed": false,
    "ExecuteTime": {
     "end_time": "2024-01-17T19:14:42.006510326Z",
     "start_time": "2024-01-17T19:14:41.909064859Z"
    }
   },
   "id": "458a9991c59788b1",
   "execution_count": 39
  },
  {
   "cell_type": "code",
   "outputs": [],
   "source": [
    "dbp_biolip = dbp_biolip.drop_duplicates(subset=[\"sequence\"])"
   ],
   "metadata": {
    "collapsed": false,
    "ExecuteTime": {
     "end_time": "2024-01-17T19:14:43.320212542Z",
     "start_time": "2024-01-17T19:14:43.299486454Z"
    }
   },
   "id": "5b2205395f24a6a4",
   "execution_count": 40
  },
  {
   "cell_type": "code",
   "outputs": [
    {
     "data": {
      "text/plain": "8418"
     },
     "execution_count": 53,
     "metadata": {},
     "output_type": "execute_result"
    }
   ],
   "source": [
    "pdb67151.sequence.duplicated().sum()"
   ],
   "metadata": {
    "collapsed": false,
    "ExecuteTime": {
     "end_time": "2024-01-17T19:19:28.717420610Z",
     "start_time": "2024-01-17T19:19:28.676252131Z"
    }
   },
   "id": "3a2ccd24b713a0e5",
   "execution_count": 53
  },
  {
   "cell_type": "code",
   "outputs": [],
   "source": [
    "df = pd.concat([dbp_biolip, pdb67151])"
   ],
   "metadata": {
    "collapsed": false,
    "ExecuteTime": {
     "end_time": "2024-01-17T19:19:35.099328739Z",
     "start_time": "2024-01-17T19:19:35.092037683Z"
    }
   },
   "id": "cabac0c7500921eb",
   "execution_count": 54
  },
  {
   "cell_type": "code",
   "outputs": [
    {
     "data": {
      "text/plain": "8441"
     },
     "execution_count": 55,
     "metadata": {},
     "output_type": "execute_result"
    }
   ],
   "source": [
    "df.sequence.duplicated().sum()"
   ],
   "metadata": {
    "collapsed": false,
    "ExecuteTime": {
     "end_time": "2024-01-17T19:19:36.086963381Z",
     "start_time": "2024-01-17T19:19:36.065517225Z"
    }
   },
   "id": "da8ce5d43cf6be9a",
   "execution_count": 55
  },
  {
   "cell_type": "code",
   "outputs": [],
   "source": [],
   "metadata": {
    "collapsed": false
   },
   "id": "4f0a0cd10b5a111"
  }
 ],
 "metadata": {
  "kernelspec": {
   "display_name": "Python 3",
   "language": "python",
   "name": "python3"
  },
  "language_info": {
   "codemirror_mode": {
    "name": "ipython",
    "version": 2
   },
   "file_extension": ".py",
   "mimetype": "text/x-python",
   "name": "python",
   "nbconvert_exporter": "python",
   "pygments_lexer": "ipython2",
   "version": "2.7.6"
  }
 },
 "nbformat": 4,
 "nbformat_minor": 5
}
