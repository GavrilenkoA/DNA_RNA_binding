{
 "cells": [
  {
   "cell_type": "code",
   "execution_count": 39,
   "id": "initial_id",
   "metadata": {
    "collapsed": true,
    "ExecuteTime": {
     "end_time": "2024-01-20T13:22:21.403263821Z",
     "start_time": "2024-01-20T13:22:21.394831617Z"
    }
   },
   "outputs": [],
   "source": [
    "import pandas as pd\n",
    "from pypdf import PdfReader"
   ]
  },
  {
   "cell_type": "code",
   "outputs": [],
   "source": [
    "def process_csv(path_csv):\n",
    "    df = pd.read_csv(path_csv, header=None)\n",
    "    \n",
    "    new_column_names = {0: \"identifier\", 1: \"sequence\", 2: \"class_binder\"}\n",
    "    df = df.rename(columns=new_column_names)\n",
    "    \n",
    "    def process_id(x):\n",
    "        if len(x) > 5:\n",
    "            id_ = x.split(\"|\")[1]\n",
    "            return id_\n",
    "        else:\n",
    "            return x\n",
    "    \n",
    "    df.insert(1, \"class_binder\", df.pop(\"class_binder\"))\n",
    "    \n",
    "    df[\"identifier\"] = df[\"identifier\"].apply(process_id)\n",
    "    return df"
   ],
   "metadata": {
    "collapsed": false,
    "ExecuteTime": {
     "end_time": "2024-01-20T13:22:21.617018315Z",
     "start_time": "2024-01-20T13:22:21.612083933Z"
    }
   },
   "id": "810c8b0aa67dd0c5",
   "execution_count": 40
  },
  {
   "cell_type": "code",
   "outputs": [],
   "source": [
    "def process_text(data_seq, mode=\"binders\"):\n",
    "    sequences = []\n",
    "    identifiers = []\n",
    "\n",
    "    text = data_seq.split(\"\\n\")\n",
    "    text = [item for item in text if item]\n",
    "    \n",
    "    seq = \"\"\n",
    "    for item in text:\n",
    "        if item[0] == \">\":\n",
    "            identifiers.append(item[1:])\n",
    "            if seq:\n",
    "                seq = \"\".join([char for char in seq if not char.isdigit()])\n",
    "                sequences.append(seq)\n",
    "                seq = \"\"\n",
    "        elif not item[0].isdigit():\n",
    "            seq += item\n",
    "    \n",
    "    seq = \"\".join([char for char in seq if not char.isdigit()])\n",
    "    sequences.append(seq)\n",
    "    \n",
    "    assert len(identifiers) == len(sequences)\n",
    "    \n",
    "    if mode == \"binders\":\n",
    "        class_binders = [1] * len(sequences)\n",
    "    else:\n",
    "        class_binders = [0] * len(sequences)\n",
    "    \n",
    "    df = pd.DataFrame({\"identifier\": identifiers, \"class_binder\": class_binders, \n",
    "                       \"sequence\": sequences})\n",
    "    return df"
   ],
   "metadata": {
    "collapsed": false,
    "ExecuteTime": {
     "end_time": "2024-01-20T13:22:21.797231244Z",
     "start_time": "2024-01-20T13:22:21.792589693Z"
    }
   },
   "id": "7f941daa4c36af5a",
   "execution_count": 41
  },
  {
   "cell_type": "code",
   "outputs": [],
   "source": [
    "def parse_pdf_v2(path, split_1, split_2):\n",
    "    pdf = PdfReader(path)\n",
    "    text = \"\"\n",
    "    for page in pdf.pages:\n",
    "        text += page.extract_text()\n",
    "        \n",
    "    text = text.replace(\" \", \"\")\n",
    "    _, text = text.split(f\"{split_1}DNA-bindingproteins\")\n",
    "    \n",
    "    binders, not_binders = text.split(f\"(2).{split_2}nonDNA-bindingproteins\")\n",
    "    return binders, not_binders"
   ],
   "metadata": {
    "collapsed": false,
    "ExecuteTime": {
     "end_time": "2024-01-20T13:22:21.992115391Z",
     "start_time": "2024-01-20T13:22:21.987869393Z"
    }
   },
   "id": "f22e4643302d6b40",
   "execution_count": 42
  },
  {
   "cell_type": "code",
   "outputs": [],
   "source": [
    "def process_col_id(x):\n",
    "    id_ = x.split(\"|\")[1]\n",
    "    return id_"
   ],
   "metadata": {
    "collapsed": false,
    "ExecuteTime": {
     "end_time": "2024-01-20T13:22:22.184232530Z",
     "start_time": "2024-01-20T13:22:22.178249608Z"
    }
   },
   "id": "6000842f04a9707a",
   "execution_count": 43
  },
  {
   "cell_type": "code",
   "outputs": [],
   "source": [
    "def parse_text_v5(path, mode=\"binders\"):\n",
    "    with open(path) as fi:\n",
    "        lines = fi.readlines()\n",
    "    lines = [line.strip() for line in lines if line.strip()]\n",
    "    \n",
    "    identifiers = []\n",
    "    for head in lines:\n",
    "        identifiers.append(head)\n",
    "    \n",
    "    if mode == \"binders\":\n",
    "        class_binders = [1] * len(identifiers)\n",
    "    else:\n",
    "        class_binders = [0] * len(identifiers)\n",
    "    \n",
    "    df = pd.DataFrame({\"identifier\": identifiers, \"class_binder\": class_binders})\n",
    "    return df"
   ],
   "metadata": {
    "collapsed": false,
    "ExecuteTime": {
     "end_time": "2024-01-20T13:22:22.372160276Z",
     "start_time": "2024-01-20T13:22:22.366384102Z"
    }
   },
   "id": "55a68198e994b6da",
   "execution_count": 44
  },
  {
   "cell_type": "code",
   "outputs": [],
   "source": [
    "pdb67151 = process_csv(\"../data/papers_data/DBP/train-17151+50000-unbalance.csv\")"
   ],
   "metadata": {
    "collapsed": false,
    "ExecuteTime": {
     "end_time": "2024-01-20T13:22:22.830910989Z",
     "start_time": "2024-01-20T13:22:22.558562005Z"
    }
   },
   "id": "75ffa804b6a1a6cc",
   "execution_count": 45
  },
  {
   "cell_type": "code",
   "outputs": [],
   "source": [
    "binders, not_binders = parse_pdf_v2(\"../data/papers_data/DBP/minf_201400025_sm_s4.pdf\", \n",
    "                                    \"525\", \"550\")"
   ],
   "metadata": {
    "collapsed": false,
    "ExecuteTime": {
     "end_time": "2024-01-20T13:22:24.216332061Z",
     "start_time": "2024-01-20T13:22:22.831967184Z"
    }
   },
   "id": "63e199f21de894d4",
   "execution_count": 46
  },
  {
   "cell_type": "code",
   "outputs": [],
   "source": [
    "pdb1075p1 = process_text(binders, mode=\"binders\")\n",
    "pdb1075p2 = process_text(not_binders, mode=\"not_binders\")\n",
    "pdb1075 = pd.concat([pdb1075p1, pdb1075p2])"
   ],
   "metadata": {
    "collapsed": false,
    "ExecuteTime": {
     "end_time": "2024-01-20T13:22:24.258274211Z",
     "start_time": "2024-01-20T13:22:24.256801454Z"
    }
   },
   "id": "2d95c872ce8c86d2",
   "execution_count": 47
  },
  {
   "cell_type": "code",
   "outputs": [],
   "source": [
    "pdb20000_p1 = pd.read_csv(\"../data/papers_data/DBP/test-10000unit-negative.csv\", header=None)\n",
    "pdb20000_p2 = pd.read_csv(\"../data/papers_data/DBP/test-10000unit-positive.csv\", header=None)\n",
    "pdb20000 = pd.concat([pdb20000_p1, pdb20000_p2])\n",
    "pdb20000.columns = [\"identifier\", \"sequence\", \"class_binder\"]\n",
    "pdb20000[\"identifier\"] = pdb20000[\"identifier\"].apply(process_col_id)"
   ],
   "metadata": {
    "collapsed": false,
    "ExecuteTime": {
     "end_time": "2024-01-20T13:22:24.330190262Z",
     "start_time": "2024-01-20T13:22:24.256989668Z"
    }
   },
   "id": "5e57976dcdef6ce7",
   "execution_count": 48
  },
  {
   "cell_type": "code",
   "outputs": [],
   "source": [
    "pdb1000_p1 = pd.read_csv(\"../data/papers_data/DBP/test-500unit-positive.csv\", header=None)\n",
    "pdb1000_p2 = pd.read_csv(\"../data/papers_data/DBP/test-500unit-negative.csv\", header=None)\n",
    "pdb1000 = pd.concat([pdb1000_p1, pdb1000_p2])\n",
    "pdb1000.columns = [\"identifier\", \"sequence\", \"class_binder\"]\n",
    "pdb1000[\"identifier\"] = pdb1000[\"identifier\"].apply(process_col_id)"
   ],
   "metadata": {
    "collapsed": false,
    "ExecuteTime": {
     "end_time": "2024-01-20T13:22:24.345883930Z",
     "start_time": "2024-01-20T13:22:24.340812812Z"
    }
   },
   "id": "ebc9f5d466163e19",
   "execution_count": 49
  },
  {
   "cell_type": "code",
   "outputs": [],
   "source": [
    "pdb14189_p1 = parse_text_v5(\"../data/papers_data/DBP/Table S1_7131_DNA-binding_proteins.txt\",\n",
    "                        mode=\"binders\")\n",
    "pdb14189_p2 = parse_text_v5(\"../data/papers_data/DBP/Table S1_7131_non_DNA-binding_proteins.txt\",\n",
    "                        mode=\"not_binders\")"
   ],
   "metadata": {
    "collapsed": false,
    "ExecuteTime": {
     "end_time": "2024-01-20T13:22:24.346860024Z",
     "start_time": "2024-01-20T13:22:24.340990446Z"
    }
   },
   "id": "41d6465e7e89d4d5",
   "execution_count": 50
  },
  {
   "cell_type": "code",
   "outputs": [
    {
     "data": {
      "text/plain": "14262"
     },
     "execution_count": 51,
     "metadata": {},
     "output_type": "execute_result"
    }
   ],
   "source": [
    "len(pdb14189_p1) + len(pdb14189_p2)"
   ],
   "metadata": {
    "collapsed": false,
    "ExecuteTime": {
     "end_time": "2024-01-20T13:22:24.347958488Z",
     "start_time": "2024-01-20T13:22:24.341069705Z"
    }
   },
   "id": "501bd88014b93602",
   "execution_count": 51
  },
  {
   "cell_type": "code",
   "outputs": [],
   "source": [
    "new_df = pd.read_csv(\"../data/papers_data/DBP/null_seqs_df.csv\")"
   ],
   "metadata": {
    "collapsed": false,
    "ExecuteTime": {
     "end_time": "2024-01-20T13:22:24.392722270Z",
     "start_time": "2024-01-20T13:22:24.341150867Z"
    }
   },
   "id": "b6bc0fb443f254b9",
   "execution_count": 52
  },
  {
   "cell_type": "code",
   "outputs": [],
   "source": [
    "new_df = new_df.loc[:, [\"identifier\", \"sequence\"]]"
   ],
   "metadata": {
    "collapsed": false,
    "ExecuteTime": {
     "end_time": "2024-01-20T13:22:24.395291979Z",
     "start_time": "2024-01-20T13:22:24.392844259Z"
    }
   },
   "id": "d160d2720be03883",
   "execution_count": 53
  },
  {
   "cell_type": "code",
   "outputs": [],
   "source": [
    "pdb14189_p1 = pdb14189_p1.merge(new_df, on=\"identifier\", how=\"inner\")\n",
    "pdb14189_p2 = pdb14189_p2.merge(new_df, on=\"identifier\", how=\"inner\")"
   ],
   "metadata": {
    "collapsed": false,
    "ExecuteTime": {
     "end_time": "2024-01-20T13:22:24.405504298Z",
     "start_time": "2024-01-20T13:22:24.395857501Z"
    }
   },
   "id": "ace8410e1b40fbaa",
   "execution_count": 54
  },
  {
   "cell_type": "code",
   "outputs": [
    {
     "data": {
      "text/plain": "14262"
     },
     "execution_count": 55,
     "metadata": {},
     "output_type": "execute_result"
    }
   ],
   "source": [
    "pdb14189 = pd.concat([pdb14189_p1, pdb14189_p2])\n",
    "len(pdb14189)"
   ],
   "metadata": {
    "collapsed": false,
    "ExecuteTime": {
     "end_time": "2024-01-20T13:22:24.661760665Z",
     "start_time": "2024-01-20T13:22:24.654832357Z"
    }
   },
   "id": "a281a943f788bf8e",
   "execution_count": 55
  },
  {
   "cell_type": "code",
   "outputs": [],
   "source": [
    "pdb14189 = pdb14189.loc[~pdb14189[\"identifier\"].duplicated()]"
   ],
   "metadata": {
    "collapsed": false,
    "ExecuteTime": {
     "end_time": "2024-01-20T13:22:24.850977766Z",
     "start_time": "2024-01-20T13:22:24.845233232Z"
    }
   },
   "id": "d85006d619d9b2f3",
   "execution_count": 56
  },
  {
   "cell_type": "code",
   "outputs": [],
   "source": [
    "def search_float(item):\n",
    "    return type(item) == float "
   ],
   "metadata": {
    "collapsed": false,
    "ExecuteTime": {
     "end_time": "2024-01-20T13:22:25.577949964Z",
     "start_time": "2024-01-20T13:22:25.572291312Z"
    }
   },
   "id": "cbab703417fcae35",
   "execution_count": 57
  },
  {
   "cell_type": "code",
   "outputs": [],
   "source": [
    "pdb14189 = pdb14189.loc[~pdb14189[\"sequence\"].apply(search_float)]"
   ],
   "metadata": {
    "collapsed": false,
    "ExecuteTime": {
     "end_time": "2024-01-20T13:22:26.107763200Z",
     "start_time": "2024-01-20T13:22:26.103883580Z"
    }
   },
   "id": "a674b1a1d593179e",
   "execution_count": 58
  },
  {
   "cell_type": "code",
   "outputs": [],
   "source": [
    "def check_duplicates(df):\n",
    "    return df[\"identifier\"].duplicated().any()"
   ],
   "metadata": {
    "collapsed": false,
    "ExecuteTime": {
     "end_time": "2024-01-20T13:22:26.636973905Z",
     "start_time": "2024-01-20T13:22:26.627910494Z"
    }
   },
   "id": "f5e8108357ae72c9",
   "execution_count": 59
  },
  {
   "cell_type": "code",
   "outputs": [
    {
     "data": {
      "text/plain": "  identifier                                           sequence  class_binder\n0     P98196  MDCSLVRTLVHRYCAGEENWVDSRTIYVGHREPPPGAEAYIPQRYP...             0\n1     Q9N0Z4  LGFDPPHQSDTRTIYIANRFPQNGLYTPQKFIDNRIISSKYTVWNF...             0\n2     Q9QZW0  MFRRTLNRLCAGEEKRVGTRTVFVGNHPISGTEPYIAQRFCDNRIV...             0\n3     Q8VDN2  MGKGVGRDKYEPAAVSEHGDKKGKKAKKERDMDELKKEVSMDDHKL...             0\n4     P04074  MGKGVGRDKYEPAAVSEHGDKKKAKKERDMDELKKEVSMDDHKLSL...             0",
      "text/html": "<div>\n<style scoped>\n    .dataframe tbody tr th:only-of-type {\n        vertical-align: middle;\n    }\n\n    .dataframe tbody tr th {\n        vertical-align: top;\n    }\n\n    .dataframe thead th {\n        text-align: right;\n    }\n</style>\n<table border=\"1\" class=\"dataframe\">\n  <thead>\n    <tr style=\"text-align: right;\">\n      <th></th>\n      <th>identifier</th>\n      <th>sequence</th>\n      <th>class_binder</th>\n    </tr>\n  </thead>\n  <tbody>\n    <tr>\n      <th>0</th>\n      <td>P98196</td>\n      <td>MDCSLVRTLVHRYCAGEENWVDSRTIYVGHREPPPGAEAYIPQRYP...</td>\n      <td>0</td>\n    </tr>\n    <tr>\n      <th>1</th>\n      <td>Q9N0Z4</td>\n      <td>LGFDPPHQSDTRTIYIANRFPQNGLYTPQKFIDNRIISSKYTVWNF...</td>\n      <td>0</td>\n    </tr>\n    <tr>\n      <th>2</th>\n      <td>Q9QZW0</td>\n      <td>MFRRTLNRLCAGEEKRVGTRTVFVGNHPISGTEPYIAQRFCDNRIV...</td>\n      <td>0</td>\n    </tr>\n    <tr>\n      <th>3</th>\n      <td>Q8VDN2</td>\n      <td>MGKGVGRDKYEPAAVSEHGDKKGKKAKKERDMDELKKEVSMDDHKL...</td>\n      <td>0</td>\n    </tr>\n    <tr>\n      <th>4</th>\n      <td>P04074</td>\n      <td>MGKGVGRDKYEPAAVSEHGDKKKAKKERDMDELKKEVSMDDHKLSL...</td>\n      <td>0</td>\n    </tr>\n  </tbody>\n</table>\n</div>"
     },
     "execution_count": 60,
     "metadata": {},
     "output_type": "execute_result"
    }
   ],
   "source": [
    "pdb20000.head()"
   ],
   "metadata": {
    "collapsed": false,
    "ExecuteTime": {
     "end_time": "2024-01-20T13:22:27.044888893Z",
     "start_time": "2024-01-20T13:22:27.039881995Z"
    }
   },
   "id": "84f688b66af110b0",
   "execution_count": 60
  },
  {
   "cell_type": "code",
   "outputs": [],
   "source": [
    "pdb186 = pd.read_csv(\"../data/papers_data/DBP/pdb186.csv\")"
   ],
   "metadata": {
    "collapsed": false,
    "ExecuteTime": {
     "end_time": "2024-01-20T13:40:37.627860819Z",
     "start_time": "2024-01-20T13:40:37.621585056Z"
    }
   },
   "id": "9e749147b228fe7c",
   "execution_count": 74
  },
  {
   "cell_type": "code",
   "outputs": [],
   "source": [
    "def process_id(x, source=\"pdb20000\"):\n",
    "    upd_id = x + \"_\" + source\n",
    "    return upd_id"
   ],
   "metadata": {
    "collapsed": false,
    "ExecuteTime": {
     "end_time": "2024-01-20T13:40:40.546987801Z",
     "start_time": "2024-01-20T13:40:40.545128284Z"
    }
   },
   "id": "3209781008689110",
   "execution_count": 75
  },
  {
   "cell_type": "code",
   "outputs": [
    {
     "data": {
      "text/plain": "False"
     },
     "execution_count": 62,
     "metadata": {},
     "output_type": "execute_result"
    }
   ],
   "source": [
    "check_duplicates(pdb20000)"
   ],
   "metadata": {
    "collapsed": false,
    "ExecuteTime": {
     "end_time": "2024-01-20T13:22:28.584345403Z",
     "start_time": "2024-01-20T13:22:28.579969089Z"
    }
   },
   "id": "adf2a56ba7ec5ff5",
   "execution_count": 62
  },
  {
   "cell_type": "code",
   "outputs": [
    {
     "data": {
      "text/plain": "False"
     },
     "execution_count": 76,
     "metadata": {},
     "output_type": "execute_result"
    }
   ],
   "source": [
    "check_duplicates(pdb186)"
   ],
   "metadata": {
    "collapsed": false,
    "ExecuteTime": {
     "end_time": "2024-01-20T13:40:58.945242390Z",
     "start_time": "2024-01-20T13:40:58.902053819Z"
    }
   },
   "id": "69b2d842ec9fc229",
   "execution_count": 76
  },
  {
   "cell_type": "code",
   "outputs": [
    {
     "data": {
      "text/plain": "False"
     },
     "execution_count": 63,
     "metadata": {},
     "output_type": "execute_result"
    }
   ],
   "source": [
    "check_duplicates(pdb14189)"
   ],
   "metadata": {
    "collapsed": false,
    "ExecuteTime": {
     "end_time": "2024-01-20T13:22:28.879697576Z",
     "start_time": "2024-01-20T13:22:28.872981076Z"
    }
   },
   "id": "e4c21c086e0b62c6",
   "execution_count": 63
  },
  {
   "cell_type": "code",
   "outputs": [
    {
     "data": {
      "text/plain": "False"
     },
     "execution_count": 64,
     "metadata": {},
     "output_type": "execute_result"
    }
   ],
   "source": [
    "check_duplicates(pdb1000)"
   ],
   "metadata": {
    "collapsed": false,
    "ExecuteTime": {
     "end_time": "2024-01-20T13:22:29.120505369Z",
     "start_time": "2024-01-20T13:22:29.115894515Z"
    }
   },
   "id": "dca9f936e79db58a",
   "execution_count": 64
  },
  {
   "cell_type": "code",
   "outputs": [
    {
     "data": {
      "text/plain": "False"
     },
     "execution_count": 65,
     "metadata": {},
     "output_type": "execute_result"
    }
   ],
   "source": [
    "check_duplicates(pdb67151)"
   ],
   "metadata": {
    "collapsed": false,
    "ExecuteTime": {
     "end_time": "2024-01-20T13:22:29.344811065Z",
     "start_time": "2024-01-20T13:22:29.342100553Z"
    }
   },
   "id": "eb9beb92e456c315",
   "execution_count": 65
  },
  {
   "cell_type": "code",
   "outputs": [
    {
     "data": {
      "text/plain": "False"
     },
     "execution_count": 66,
     "metadata": {},
     "output_type": "execute_result"
    }
   ],
   "source": [
    "check_duplicates(pdb1075)"
   ],
   "metadata": {
    "collapsed": false,
    "ExecuteTime": {
     "end_time": "2024-01-20T13:22:29.917430292Z",
     "start_time": "2024-01-20T13:22:29.911530856Z"
    }
   },
   "id": "d4be12492c12257c",
   "execution_count": 66
  },
  {
   "cell_type": "code",
   "outputs": [],
   "source": [
    "pdb20000[\"identifier\"] = pdb20000[\"identifier\"].apply(lambda x: process_id(x, source=\"pdb20000\"))"
   ],
   "metadata": {
    "collapsed": false,
    "ExecuteTime": {
     "end_time": "2024-01-20T13:22:35.747567146Z",
     "start_time": "2024-01-20T13:22:35.733771754Z"
    }
   },
   "id": "aa034d38842065ab",
   "execution_count": 67
  },
  {
   "cell_type": "code",
   "outputs": [],
   "source": [
    "pdb1075[\"identifier\"] = pdb1075[\"identifier\"].apply(lambda x: process_id(x, source=\"pdb1075\"))"
   ],
   "metadata": {
    "collapsed": false,
    "ExecuteTime": {
     "end_time": "2024-01-20T13:22:46.030486963Z",
     "start_time": "2024-01-20T13:22:46.021089544Z"
    }
   },
   "id": "2ec9d12b44fd5c3",
   "execution_count": 68
  },
  {
   "cell_type": "code",
   "outputs": [],
   "source": [
    "pdb14189[\"identifier\"] = pdb14189[\"identifier\"].apply(lambda x: process_id(x, source=\"pdb14189\"))"
   ],
   "metadata": {
    "collapsed": false,
    "ExecuteTime": {
     "end_time": "2024-01-20T13:23:02.456926945Z",
     "start_time": "2024-01-20T13:23:02.409414593Z"
    }
   },
   "id": "4820d69c3fc4e546",
   "execution_count": 69
  },
  {
   "cell_type": "code",
   "outputs": [],
   "source": [
    "pdb1000[\"identifier\"] = pdb1000[\"identifier\"].apply(lambda x: process_id(x, source=\"pdb1000\"))"
   ],
   "metadata": {
    "collapsed": false,
    "ExecuteTime": {
     "end_time": "2024-01-20T13:23:08.162516577Z",
     "start_time": "2024-01-20T13:23:08.160319267Z"
    }
   },
   "id": "9fd4066cf7a00945",
   "execution_count": 70
  },
  {
   "cell_type": "code",
   "outputs": [],
   "source": [
    "pdb67151[\"identifier\"] = pdb67151[\"identifier\"].apply(lambda x: process_id(x, source=\"pdb67151\"))"
   ],
   "metadata": {
    "collapsed": false,
    "ExecuteTime": {
     "end_time": "2024-01-20T13:23:16.367432395Z",
     "start_time": "2024-01-20T13:23:16.349845977Z"
    }
   },
   "id": "6a79ffd5b25118b4",
   "execution_count": 71
  },
  {
   "cell_type": "code",
   "outputs": [],
   "source": [
    "pdb186[\"identifier\"] = pdb186[\"identifier\"].apply(lambda x: process_id(x, source=\"pdb186\"))"
   ],
   "metadata": {
    "collapsed": false,
    "ExecuteTime": {
     "end_time": "2024-01-20T13:41:22.084907604Z",
     "start_time": "2024-01-20T13:41:22.043949398Z"
    }
   },
   "id": "3bbc6224a4731b6",
   "execution_count": 77
  },
  {
   "cell_type": "code",
   "outputs": [],
   "source": [
    "df = pd.concat([pdb20000, pdb14189, pdb1000, pdb67151, pdb1075, pdb186])"
   ],
   "metadata": {
    "collapsed": false,
    "ExecuteTime": {
     "end_time": "2024-01-20T13:41:31.720770786Z",
     "start_time": "2024-01-20T13:41:31.695429889Z"
    }
   },
   "id": "253d41ce8bb13c98",
   "execution_count": 78
  },
  {
   "cell_type": "code",
   "outputs": [
    {
     "data": {
      "text/plain": "        identifier                                           sequence  \\\n0  P98196_pdb20000  MDCSLVRTLVHRYCAGEENWVDSRTIYVGHREPPPGAEAYIPQRYP...   \n1  Q9N0Z4_pdb20000  LGFDPPHQSDTRTIYIANRFPQNGLYTPQKFIDNRIISSKYTVWNF...   \n2  Q9QZW0_pdb20000  MFRRTLNRLCAGEEKRVGTRTVFVGNHPISGTEPYIAQRFCDNRIV...   \n3  Q8VDN2_pdb20000  MGKGVGRDKYEPAAVSEHGDKKGKKAKKERDMDELKKEVSMDDHKL...   \n4  P04074_pdb20000  MGKGVGRDKYEPAAVSEHGDKKKAKKERDMDELKKEVSMDDHKLSL...   \n\n   class_binder  \n0             0  \n1             0  \n2             0  \n3             0  \n4             0  ",
      "text/html": "<div>\n<style scoped>\n    .dataframe tbody tr th:only-of-type {\n        vertical-align: middle;\n    }\n\n    .dataframe tbody tr th {\n        vertical-align: top;\n    }\n\n    .dataframe thead th {\n        text-align: right;\n    }\n</style>\n<table border=\"1\" class=\"dataframe\">\n  <thead>\n    <tr style=\"text-align: right;\">\n      <th></th>\n      <th>identifier</th>\n      <th>sequence</th>\n      <th>class_binder</th>\n    </tr>\n  </thead>\n  <tbody>\n    <tr>\n      <th>0</th>\n      <td>P98196_pdb20000</td>\n      <td>MDCSLVRTLVHRYCAGEENWVDSRTIYVGHREPPPGAEAYIPQRYP...</td>\n      <td>0</td>\n    </tr>\n    <tr>\n      <th>1</th>\n      <td>Q9N0Z4_pdb20000</td>\n      <td>LGFDPPHQSDTRTIYIANRFPQNGLYTPQKFIDNRIISSKYTVWNF...</td>\n      <td>0</td>\n    </tr>\n    <tr>\n      <th>2</th>\n      <td>Q9QZW0_pdb20000</td>\n      <td>MFRRTLNRLCAGEEKRVGTRTVFVGNHPISGTEPYIAQRFCDNRIV...</td>\n      <td>0</td>\n    </tr>\n    <tr>\n      <th>3</th>\n      <td>Q8VDN2_pdb20000</td>\n      <td>MGKGVGRDKYEPAAVSEHGDKKGKKAKKERDMDELKKEVSMDDHKL...</td>\n      <td>0</td>\n    </tr>\n    <tr>\n      <th>4</th>\n      <td>P04074_pdb20000</td>\n      <td>MGKGVGRDKYEPAAVSEHGDKKKAKKERDMDELKKEVSMDDHKLSL...</td>\n      <td>0</td>\n    </tr>\n  </tbody>\n</table>\n</div>"
     },
     "execution_count": 82,
     "metadata": {},
     "output_type": "execute_result"
    }
   ],
   "source": [
    "df.head()"
   ],
   "metadata": {
    "collapsed": false,
    "ExecuteTime": {
     "end_time": "2024-01-20T13:43:23.127875432Z",
     "start_time": "2024-01-20T13:43:23.122118565Z"
    }
   },
   "id": "4d02945e9055781d",
   "execution_count": 82
  },
  {
   "cell_type": "code",
   "outputs": [],
   "source": [
    "def save_csv(df, name):\n",
    "    path_csv = \"../data/papers_data/DBP/\"\n",
    "    path_csv += name\n",
    "    df.to_csv(path_csv, index=False)"
   ],
   "metadata": {
    "collapsed": false,
    "ExecuteTime": {
     "end_time": "2024-01-20T13:42:19.292923776Z",
     "start_time": "2024-01-20T13:42:19.250064263Z"
    }
   },
   "id": "a7bdce590a6147e8",
   "execution_count": 81
  },
  {
   "cell_type": "code",
   "outputs": [],
   "source": [
    "save_csv(df, \"overall_data.csv\")"
   ],
   "metadata": {
    "collapsed": false,
    "ExecuteTime": {
     "end_time": "2024-01-20T13:43:45.430153832Z",
     "start_time": "2024-01-20T13:43:44.893795030Z"
    }
   },
   "id": "4735e00e7f2d0ef0",
   "execution_count": 83
  },
  {
   "cell_type": "code",
   "outputs": [
    {
     "data": {
      "text/plain": "          identifier                                           sequence  \\\n0    P98196_pdb20000  MDCSLVRTLVHRYCAGEENWVDSRTIYVGHREPPPGAEAYIPQRYP...   \n1    Q9N0Z4_pdb20000  LGFDPPHQSDTRTIYIANRFPQNGLYTPQKFIDNRIISSKYTVWNF...   \n2    Q9QZW0_pdb20000  MFRRTLNRLCAGEEKRVGTRTVFVGNHPISGTEPYIAQRFCDNRIV...   \n3    Q8VDN2_pdb20000  MGKGVGRDKYEPAAVSEHGDKKGKKAKKERDMDELKKEVSMDDHKL...   \n4    P04074_pdb20000  MGKGVGRDKYEPAAVSEHGDKKKAKKERDMDELKKEVSMDDHKLSL...   \n..               ...                                                ...   \n181     4HWXA_pdb186  GSAHGPSAMVFTVIQGSGEPTDTVLRATTLSCAYTAEGTHPAPRAA...   \n182     4HY3A_pdb186  MHHHHHHSSGVDLGTENLYFQSMTNTERPLAISAPEPRSLDLIFSD...   \n183     4I1DA_pdb186  SNAQITFVSQGGAYQAAQTVAILDPSAKKLGITINQDSIPDAWPAI...   \n184     4I8DA_pdb186  AVVPPAGTPWGTAYDKAKAALAKLNLQDKVGIVSGVGWNGGPCVGN...   \n185     4IAOC_pdb186  MGSSHHHHHHSQDPNSMDPLAVSAASVVSMSNDVLKPETPKGPIII...   \n\n     class_binder  \n0               0  \n1               0  \n2               0  \n3               0  \n4               0  \n..            ...  \n181             0  \n182             0  \n183             0  \n184             0  \n185             0  \n\n[103596 rows x 3 columns]",
      "text/html": "<div>\n<style scoped>\n    .dataframe tbody tr th:only-of-type {\n        vertical-align: middle;\n    }\n\n    .dataframe tbody tr th {\n        vertical-align: top;\n    }\n\n    .dataframe thead th {\n        text-align: right;\n    }\n</style>\n<table border=\"1\" class=\"dataframe\">\n  <thead>\n    <tr style=\"text-align: right;\">\n      <th></th>\n      <th>identifier</th>\n      <th>sequence</th>\n      <th>class_binder</th>\n    </tr>\n  </thead>\n  <tbody>\n    <tr>\n      <th>0</th>\n      <td>P98196_pdb20000</td>\n      <td>MDCSLVRTLVHRYCAGEENWVDSRTIYVGHREPPPGAEAYIPQRYP...</td>\n      <td>0</td>\n    </tr>\n    <tr>\n      <th>1</th>\n      <td>Q9N0Z4_pdb20000</td>\n      <td>LGFDPPHQSDTRTIYIANRFPQNGLYTPQKFIDNRIISSKYTVWNF...</td>\n      <td>0</td>\n    </tr>\n    <tr>\n      <th>2</th>\n      <td>Q9QZW0_pdb20000</td>\n      <td>MFRRTLNRLCAGEEKRVGTRTVFVGNHPISGTEPYIAQRFCDNRIV...</td>\n      <td>0</td>\n    </tr>\n    <tr>\n      <th>3</th>\n      <td>Q8VDN2_pdb20000</td>\n      <td>MGKGVGRDKYEPAAVSEHGDKKGKKAKKERDMDELKKEVSMDDHKL...</td>\n      <td>0</td>\n    </tr>\n    <tr>\n      <th>4</th>\n      <td>P04074_pdb20000</td>\n      <td>MGKGVGRDKYEPAAVSEHGDKKKAKKERDMDELKKEVSMDDHKLSL...</td>\n      <td>0</td>\n    </tr>\n    <tr>\n      <th>...</th>\n      <td>...</td>\n      <td>...</td>\n      <td>...</td>\n    </tr>\n    <tr>\n      <th>181</th>\n      <td>4HWXA_pdb186</td>\n      <td>GSAHGPSAMVFTVIQGSGEPTDTVLRATTLSCAYTAEGTHPAPRAA...</td>\n      <td>0</td>\n    </tr>\n    <tr>\n      <th>182</th>\n      <td>4HY3A_pdb186</td>\n      <td>MHHHHHHSSGVDLGTENLYFQSMTNTERPLAISAPEPRSLDLIFSD...</td>\n      <td>0</td>\n    </tr>\n    <tr>\n      <th>183</th>\n      <td>4I1DA_pdb186</td>\n      <td>SNAQITFVSQGGAYQAAQTVAILDPSAKKLGITINQDSIPDAWPAI...</td>\n      <td>0</td>\n    </tr>\n    <tr>\n      <th>184</th>\n      <td>4I8DA_pdb186</td>\n      <td>AVVPPAGTPWGTAYDKAKAALAKLNLQDKVGIVSGVGWNGGPCVGN...</td>\n      <td>0</td>\n    </tr>\n    <tr>\n      <th>185</th>\n      <td>4IAOC_pdb186</td>\n      <td>MGSSHHHHHHSQDPNSMDPLAVSAASVVSMSNDVLKPETPKGPIII...</td>\n      <td>0</td>\n    </tr>\n  </tbody>\n</table>\n<p>103596 rows × 3 columns</p>\n</div>"
     },
     "execution_count": 86,
     "metadata": {},
     "output_type": "execute_result"
    }
   ],
   "source": [
    "df"
   ],
   "metadata": {
    "collapsed": false,
    "ExecuteTime": {
     "end_time": "2024-01-20T13:44:07.567029667Z",
     "start_time": "2024-01-20T13:44:07.557012499Z"
    }
   },
   "id": "4a41a04ec42616b8",
   "execution_count": 86
  },
  {
   "cell_type": "code",
   "outputs": [],
   "source": [
    "save_csv(pdb1075, \"pdb1075.csv\")"
   ],
   "metadata": {
    "collapsed": false
   },
   "id": "b54d2e8e90c21db7",
   "execution_count": 166
  },
  {
   "cell_type": "code",
   "outputs": [],
   "source": [
    "save_csv(pdb67151, \"pdb67151.csv\")"
   ],
   "metadata": {
    "collapsed": false
   },
   "id": "ccbdf87a59f64c1a",
   "execution_count": 167
  },
  {
   "cell_type": "code",
   "outputs": [],
   "source": [
    "save_csv(pdb1000, \"pdb1000.csv\")"
   ],
   "metadata": {
    "collapsed": false
   },
   "id": "183e48372df74fcd",
   "execution_count": 168
  },
  {
   "cell_type": "code",
   "outputs": [],
   "source": [
    "save_csv(pdb14189, \"pdb14189.csv\")"
   ],
   "metadata": {
    "collapsed": false
   },
   "id": "85e237083fcd77ce",
   "execution_count": 81
  },
  {
   "cell_type": "code",
   "outputs": [
    {
     "data": {
      "text/plain": "        identifier  class_binder  \\\n0  Q6A8L0_pdb14189             1   \n1  A6NI15_pdb14189             1   \n2  Q8N1G0_pdb14189             1   \n3  Q83NU2_pdb14189             1   \n4  P48383_pdb14189             1   \n\n                                            sequence  \n0  MSGHSKWATTKHKKAAIDAKRGKLFARLIKNIEVAARLGGGDPSGN...  \n1  MDNLRETFLSLEDGLGSSDSPGLLSSWDWKDRAGPFELNQASPSQS...  \n2  MGDMKTPDFDDLLAAFDIPDIDANEAIHSGPEENEGPGGPGKPEPG...  \n3  MDATVTVVGNLTADPELRYTATGAAVVNMTIASTPRMYDRQSGEWK...  \n4  MNPSDLPGQIPLSRSDMNVQDQLDPVQRFDTHFMLPQEENFLNRPS...  ",
      "text/html": "<div>\n<style scoped>\n    .dataframe tbody tr th:only-of-type {\n        vertical-align: middle;\n    }\n\n    .dataframe tbody tr th {\n        vertical-align: top;\n    }\n\n    .dataframe thead th {\n        text-align: right;\n    }\n</style>\n<table border=\"1\" class=\"dataframe\">\n  <thead>\n    <tr style=\"text-align: right;\">\n      <th></th>\n      <th>identifier</th>\n      <th>class_binder</th>\n      <th>sequence</th>\n    </tr>\n  </thead>\n  <tbody>\n    <tr>\n      <th>0</th>\n      <td>Q6A8L0_pdb14189</td>\n      <td>1</td>\n      <td>MSGHSKWATTKHKKAAIDAKRGKLFARLIKNIEVAARLGGGDPSGN...</td>\n    </tr>\n    <tr>\n      <th>1</th>\n      <td>A6NI15_pdb14189</td>\n      <td>1</td>\n      <td>MDNLRETFLSLEDGLGSSDSPGLLSSWDWKDRAGPFELNQASPSQS...</td>\n    </tr>\n    <tr>\n      <th>2</th>\n      <td>Q8N1G0_pdb14189</td>\n      <td>1</td>\n      <td>MGDMKTPDFDDLLAAFDIPDIDANEAIHSGPEENEGPGGPGKPEPG...</td>\n    </tr>\n    <tr>\n      <th>3</th>\n      <td>Q83NU2_pdb14189</td>\n      <td>1</td>\n      <td>MDATVTVVGNLTADPELRYTATGAAVVNMTIASTPRMYDRQSGEWK...</td>\n    </tr>\n    <tr>\n      <th>4</th>\n      <td>P48383_pdb14189</td>\n      <td>1</td>\n      <td>MNPSDLPGQIPLSRSDMNVQDQLDPVQRFDTHFMLPQEENFLNRPS...</td>\n    </tr>\n  </tbody>\n</table>\n</div>"
     },
     "execution_count": 84,
     "metadata": {},
     "output_type": "execute_result"
    }
   ],
   "source": [
    "pdb14189.head()"
   ],
   "metadata": {
    "collapsed": false,
    "ExecuteTime": {
     "end_time": "2024-01-20T13:43:48.675476095Z",
     "start_time": "2024-01-20T13:43:48.670233660Z"
    }
   },
   "id": "80895cc9fa610389",
   "execution_count": 84
  },
  {
   "cell_type": "code",
   "outputs": [],
   "source": [
    "dbp_biolip = pd.read_csv(\"../data/biolip/dna_binders_biolip.csv\")"
   ],
   "metadata": {
    "collapsed": false,
    "ExecuteTime": {
     "end_time": "2024-01-20T13:45:06.897234613Z",
     "start_time": "2024-01-20T13:45:06.855285996Z"
    }
   },
   "id": "458a9991c59788b1",
   "execution_count": 87
  },
  {
   "cell_type": "code",
   "outputs": [],
   "source": [
    "dbp_biolip = dbp_biolip.drop_duplicates(subset=[\"sequence\"])"
   ],
   "metadata": {
    "collapsed": false,
    "ExecuteTime": {
     "end_time": "2024-01-20T13:45:12.351835263Z",
     "start_time": "2024-01-20T13:45:12.347746005Z"
    }
   },
   "id": "5b2205395f24a6a4",
   "execution_count": 88
  },
  {
   "cell_type": "code",
   "outputs": [
    {
     "data": {
      "text/plain": "False"
     },
     "execution_count": 89,
     "metadata": {},
     "output_type": "execute_result"
    }
   ],
   "source": [
    "check_duplicates(dbp_biolip)"
   ],
   "metadata": {
    "collapsed": false,
    "ExecuteTime": {
     "end_time": "2024-01-20T13:45:12.808360647Z",
     "start_time": "2024-01-20T13:45:12.803067710Z"
    }
   },
   "id": "3a2ccd24b713a0e5",
   "execution_count": 89
  },
  {
   "cell_type": "code",
   "outputs": [],
   "source": [
    "dbp_biolip.to_csv(\"../data/biolip/dna_binders_biolip.csv\", index=False)"
   ],
   "metadata": {
    "collapsed": false,
    "ExecuteTime": {
     "end_time": "2024-01-18T11:43:06.806640175Z",
     "start_time": "2024-01-18T11:43:06.749942626Z"
    }
   },
   "id": "4f0a0cd10b5a111",
   "execution_count": 18
  }
 ],
 "metadata": {
  "kernelspec": {
   "display_name": "Python 3",
   "language": "python",
   "name": "python3"
  },
  "language_info": {
   "codemirror_mode": {
    "name": "ipython",
    "version": 2
   },
   "file_extension": ".py",
   "mimetype": "text/x-python",
   "name": "python",
   "nbconvert_exporter": "python",
   "pygments_lexer": "ipython2",
   "version": "2.7.6"
  }
 },
 "nbformat": 4,
 "nbformat_minor": 5
}
